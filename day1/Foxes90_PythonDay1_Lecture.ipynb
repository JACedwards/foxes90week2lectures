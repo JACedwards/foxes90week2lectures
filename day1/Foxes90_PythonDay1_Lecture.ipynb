{
 "cells": [
  {
   "cell_type": "markdown",
   "metadata": {},
   "source": [
    "# Week 2 - Monday Lesson (variable assignment, loops, lists)"
   ]
  },
  {
   "cell_type": "markdown",
   "metadata": {},
   "source": [
    "## Tasks Today:\n",
    "\n",
    "1) Int & Float assignments <br>\n",
    " &nbsp;&nbsp;&nbsp;&nbsp; a) Assigning int <br>\n",
    " &nbsp;&nbsp;&nbsp;&nbsp; b) Assigning float <br>\n",
    " &nbsp;&nbsp;&nbsp;&nbsp; c) Performing Calculations on ints and floats <br>\n",
    " &nbsp;&nbsp;&nbsp;&nbsp;&nbsp;&nbsp;&nbsp;&nbsp; - Addition <br>\n",
    " &nbsp;&nbsp;&nbsp;&nbsp;&nbsp;&nbsp;&nbsp;&nbsp; - Subtraction <br>\n",
    " &nbsp;&nbsp;&nbsp;&nbsp;&nbsp;&nbsp;&nbsp;&nbsp; - Multiplication <br>\n",
    " &nbsp;&nbsp;&nbsp;&nbsp;&nbsp;&nbsp;&nbsp;&nbsp; - Division <br>\n",
    " &nbsp;&nbsp;&nbsp;&nbsp;&nbsp;&nbsp;&nbsp;&nbsp; - Floor Division <br>\n",
    " &nbsp;&nbsp;&nbsp;&nbsp;&nbsp;&nbsp;&nbsp;&nbsp; - Modulo <br>\n",
    " &nbsp;&nbsp;&nbsp;&nbsp;&nbsp;&nbsp;&nbsp;&nbsp; - Exponential <br>\n",
    "2) String Input-Output <br>\n",
    " &nbsp;&nbsp;&nbsp;&nbsp; a) String Assignment <br>\n",
    " &nbsp;&nbsp;&nbsp;&nbsp; b) print() <br>\n",
    " &nbsp;&nbsp;&nbsp;&nbsp; c) String Concatenation <br>\n",
    " &nbsp;&nbsp;&nbsp;&nbsp; d) Type Conversion <br>\n",
    " &nbsp;&nbsp;&nbsp;&nbsp; e) input() <br>\n",
    " &nbsp;&nbsp;&nbsp;&nbsp; f) format() <br>\n",
    " &nbsp;&nbsp;&nbsp;&nbsp; g) Old Way (python 2) <br>\n",
    "3) <b>In-Class Exercise #1</b> <br>\n",
    "4) If Statements <br>\n",
    " &nbsp;&nbsp;&nbsp;&nbsp; a) 'is' keyword <br>\n",
    " &nbsp;&nbsp;&nbsp;&nbsp; b) 'in' keyword <br>\n",
    " &nbsp;&nbsp;&nbsp;&nbsp; c) 'not in' keyword <br>\n",
    "5) <b>In-Class Exercise #2</b> <br>\n",
    "6) Elif Statements <br>\n",
    "7) Else Statements <br>\n",
    "8) <b>In-Class Exercise #3</b> <br>\n",
    "9) For Loops <br>\n",
    " &nbsp;&nbsp;&nbsp;&nbsp; a) Using 'in' keyword <br>\n",
    " &nbsp;&nbsp;&nbsp;&nbsp; b) Continue Statement <br>\n",
    " &nbsp;&nbsp;&nbsp;&nbsp; c) Break Statement <br>\n",
    " &nbsp;&nbsp;&nbsp;&nbsp; d) Pass Statement <br>\n",
    " &nbsp;&nbsp;&nbsp;&nbsp; e) Double For Loops <br>\n",
    "10) While Loops <br>\n",
    " &nbsp;&nbsp;&nbsp;&nbsp; a) Looping 'While True' <br>\n",
    " &nbsp;&nbsp;&nbsp;&nbsp; b) While and For Loops Used Together <br>\n",
    "11) Built-In Functions <br>\n",
    " &nbsp;&nbsp;&nbsp;&nbsp; a) range() <br>\n",
    " &nbsp;&nbsp;&nbsp;&nbsp; b) len() <br>\n",
    " &nbsp;&nbsp;&nbsp;&nbsp; c) help() <br>\n",
    " &nbsp;&nbsp;&nbsp;&nbsp; d) isinstance() <br>\n",
    " &nbsp;&nbsp;&nbsp;&nbsp; e) abs() <br>\n",
    "12) Try and Except <br>\n",
    "13) Lists <br>\n",
    " &nbsp;&nbsp;&nbsp;&nbsp; a) Declaring Lists <br>\n",
    " &nbsp;&nbsp;&nbsp;&nbsp; b) Indexing a List <br>\n",
    " &nbsp;&nbsp;&nbsp;&nbsp; c) .append() <br>\n",
    " &nbsp;&nbsp;&nbsp;&nbsp; d) .insert() <br>\n",
    " &nbsp;&nbsp;&nbsp;&nbsp; e) .pop() <br>\n",
    " &nbsp;&nbsp;&nbsp;&nbsp; f) .remove() <br>\n",
    " &nbsp;&nbsp;&nbsp;&nbsp; g) del() <br>\n",
    " &nbsp;&nbsp;&nbsp;&nbsp; h) Concatenating Two Lists <br>\n",
    " &nbsp;&nbsp;&nbsp;&nbsp; i) Lists Within Lists <br>\n",
    " &nbsp;&nbsp;&nbsp;&nbsp; j) Looping Through Lists <br>"
   ]
  },
  {
   "cell_type": "markdown",
   "metadata": {},
   "source": [
    "### Int & Float Assignments"
   ]
  },
  {
   "cell_type": "markdown",
   "metadata": {},
   "source": [
    "##### Assigning int"
   ]
  },
  {
   "cell_type": "code",
   "execution_count": 1,
   "metadata": {},
   "outputs": [
    {
     "name": "stdout",
     "output_type": "stream",
     "text": [
      "2\n",
      "4\n"
     ]
    }
   ],
   "source": [
    "x = 2\n",
    "y = 4\n",
    "x+y\n",
    "print(x)\n",
    "print(y)"
   ]
  },
  {
   "cell_type": "markdown",
   "metadata": {},
   "source": [
    "##### Assigning float"
   ]
  },
  {
   "cell_type": "code",
   "execution_count": 2,
   "metadata": {},
   "outputs": [],
   "source": [
    "# variable assignment - initial definition\n",
    "z = 3.1415\n",
    "\n",
    "# reassignment/redefinition\n",
    "z = 5\n",
    "# redefinition using the previous value\n",
    "z = z + 1.5\n",
    "# the new value of z should be the old value of z plus 1.5"
   ]
  },
  {
   "cell_type": "markdown",
   "metadata": {},
   "source": [
    "#### Performing Calculations on ints and floats\n",
    "##### Floats and Integers are Immutable\n",
    "<p> What does this mean? An immutable variable cannot be directly changed. When in practice we appear to be changing an integer or a float, we are in fact simply replacing that integer or float with an entirely new integer or float. </p>"
   ]
  },
  {
   "cell_type": "markdown",
   "metadata": {},
   "source": [
    "##### Addition"
   ]
  },
  {
   "cell_type": "code",
   "execution_count": 6,
   "metadata": {},
   "outputs": [
    {
     "data": {
      "text/plain": [
       "float"
      ]
     },
     "execution_count": 6,
     "metadata": {},
     "output_type": "execute_result"
    }
   ],
   "source": [
    "# int + int = int\n",
    "# float + float = float\n",
    "# int + float = float\n",
    "\n",
    "f = 2.0 + 1.0\n",
    "# type() function can be used to determine the type of a variable\n",
    "type(f)"
   ]
  },
  {
   "cell_type": "markdown",
   "metadata": {},
   "source": [
    "##### Subtraction"
   ]
  },
  {
   "cell_type": "code",
   "execution_count": 9,
   "metadata": {},
   "outputs": [
    {
     "name": "stdout",
     "output_type": "stream",
     "text": [
      "-1\n",
      "0.05\n"
     ]
    }
   ],
   "source": [
    "print(2 - 3)\n",
    "print(.1 - .05)"
   ]
  },
  {
   "cell_type": "markdown",
   "metadata": {},
   "source": [
    "##### Multiplication"
   ]
  },
  {
   "cell_type": "code",
   "execution_count": 11,
   "metadata": {},
   "outputs": [
    {
     "name": "stdout",
     "output_type": "stream",
     "text": [
      "8\n",
      "4\n"
     ]
    }
   ],
   "source": [
    "# operator *\n",
    "print(x*y)\n",
    "print(x*2)"
   ]
  },
  {
   "cell_type": "markdown",
   "metadata": {},
   "source": [
    "##### Division"
   ]
  },
  {
   "cell_type": "code",
   "execution_count": 14,
   "metadata": {},
   "outputs": [
    {
     "name": "stdout",
     "output_type": "stream",
     "text": [
      "2.0 <class 'float'>\n"
     ]
    }
   ],
   "source": [
    "# operator: /\n",
    "# division always returns a float\n",
    "print(4/2, type(4/2))"
   ]
  },
  {
   "cell_type": "markdown",
   "metadata": {},
   "source": [
    "##### Floor Division"
   ]
  },
  {
   "cell_type": "code",
   "execution_count": 25,
   "metadata": {},
   "outputs": [
    {
     "name": "stdout",
     "output_type": "stream",
     "text": [
      "3 <class 'int'>\n",
      "3.0 <class 'float'>\n"
     ]
    }
   ],
   "source": [
    "# operator: //\n",
    "# returns the result of division rounded down to the nearest integer\n",
    "# if a float is involved, returns a float\n",
    "print(22//7, type(22//7))\n",
    "print(22//7.0, type(22//7.0))"
   ]
  },
  {
   "cell_type": "markdown",
   "metadata": {},
   "source": [
    "##### Modulo"
   ]
  },
  {
   "cell_type": "code",
   "execution_count": 23,
   "metadata": {},
   "outputs": [
    {
     "name": "stdout",
     "output_type": "stream",
     "text": [
      "1\n"
     ]
    }
   ],
   "source": [
    "# operator: %\n",
    "# returns the remainder of long division\n",
    "# if a float is involved, returns a float\n",
    "print(22%7) # 22 mod 7\n",
    "# 22 - 22//7 * 7"
   ]
  },
  {
   "cell_type": "markdown",
   "metadata": {},
   "source": [
    "##### Exponential"
   ]
  },
  {
   "cell_type": "code",
   "execution_count": 28,
   "metadata": {},
   "outputs": [
    {
     "data": {
      "text/plain": [
       "25.0"
      ]
     },
     "execution_count": 28,
     "metadata": {},
     "output_type": "execute_result"
    }
   ],
   "source": [
    "# operator: **\n",
    "# exponent -> returns a float or an integer just like all other math operations\n",
    "5**2.0"
   ]
  },
  {
   "cell_type": "code",
   "execution_count": 34,
   "metadata": {},
   "outputs": [
    {
     "name": "stdout",
     "output_type": "stream",
     "text": [
      "2 <class 'int'>\n",
      "2.0 <class 'float'>\n",
      "2 <class 'int'>\n"
     ]
    }
   ],
   "source": [
    "# Conversion between integers and floats\n",
    "# typecasting with float() or int()\n",
    "x = 2\n",
    "print(x, type(x))\n",
    "x = float(x)\n",
    "print(x, type(x))\n",
    "x = int(x)\n",
    "print(x, type(x))"
   ]
  },
  {
   "cell_type": "code",
   "execution_count": 35,
   "metadata": {},
   "outputs": [
    {
     "name": "stdout",
     "output_type": "stream",
     "text": [
      "3.0\n"
     ]
    }
   ],
   "source": [
    "# What happens if I convert a float to an integer and back to a float?\n",
    "# Do I keep the decimal places I had before?\n",
    "# No. Your computer forgets all the decimal places when the number is converted to an integer\n",
    "pi = 3.141592 # initial value\n",
    "pi = int(pi) # redefinition as an integer\n",
    "pi = float(pi) # another redefinition this time back to a float\n",
    "print(pi)\n"
   ]
  },
  {
   "cell_type": "markdown",
   "metadata": {},
   "source": [
    "### String Input-Output"
   ]
  },
  {
   "cell_type": "markdown",
   "metadata": {},
   "source": [
    "##### String Assignment"
   ]
  },
  {
   "cell_type": "code",
   "execution_count": 43,
   "metadata": {},
   "outputs": [
    {
     "name": "stdout",
     "output_type": "stream",
     "text": [
      "Fennec Fox <class 'str'>\n"
     ]
    }
   ],
   "source": [
    "my_string = 'Fennec Fox'\n",
    "print(my_string, type(my_string))"
   ]
  },
  {
   "cell_type": "markdown",
   "metadata": {},
   "source": [
    "##### print() <br>\n",
    "<p>Don't forget about end=' '</p>"
   ]
  },
  {
   "cell_type": "code",
   "execution_count": 47,
   "metadata": {},
   "outputs": [
    {
     "name": "stdout",
     "output_type": "stream",
     "text": [
      "Fennec Fox\n",
      "Hello Fennec Fox 3.14 6.5\n",
      "testWHOAtest_two\n",
      "Hello\n",
      "None\n"
     ]
    }
   ],
   "source": [
    "# print does not actively do anything - just for more information for the developer\n",
    "print(my_string)\n",
    "# print can print multiple things at once\n",
    "print('Hello', my_string, 3.14, z)\n",
    "# print does accept one optional piece of input -> the end parameter\n",
    "# how does our print statement end?\n",
    "# print(<value>, end='\\n') -> default for end is '\\n' newline\n",
    "print('test', end='WHOA')\n",
    "print('test_two')\n",
    "# if you pass a function call into a print statement, the return value of the function will be printed\n",
    "# printing a print function call -> the outer print function will print None\n",
    "    # because the print function returns None\n",
    "print(print('Hello'))"
   ]
  },
  {
   "cell_type": "markdown",
   "metadata": {},
   "source": [
    "##### String Concatenation"
   ]
  },
  {
   "cell_type": "code",
   "execution_count": 51,
   "metadata": {},
   "outputs": [
    {
     "name": "stdout",
     "output_type": "stream",
     "text": [
      "Coding Temple\n"
     ]
    }
   ],
   "source": [
    "# string addition\n",
    "# operator: +\n",
    "# when used on two strings creates a new third string that is a combination of the other strings\n",
    "string_a = 'Coding'\n",
    "string_b = 'Temple'\n",
    "string_c = string_a + ' ' + string_b\n",
    "print(string_c)"
   ]
  },
  {
   "cell_type": "markdown",
   "metadata": {},
   "source": [
    "##### Type Conversion"
   ]
  },
  {
   "cell_type": "code",
   "execution_count": 54,
   "metadata": {},
   "outputs": [
    {
     "name": "stdout",
     "output_type": "stream",
     "text": [
      "55.5 <class 'float'>\n"
     ]
    },
    {
     "ename": "ValueError",
     "evalue": "could not convert string to float: '3.14.15'",
     "output_type": "error",
     "traceback": [
      "\u001b[1;31m---------------------------------------------------------------------------\u001b[0m",
      "\u001b[1;31mValueError\u001b[0m                                Traceback (most recent call last)",
      "\u001b[1;32m<ipython-input-54-a19196aff7d9>\u001b[0m in \u001b[0;36m<module>\u001b[1;34m\u001b[0m\n\u001b[0;32m      4\u001b[0m \u001b[1;31m# if the string is a combination of numbers and letters or other characters\u001b[0m\u001b[1;33m\u001b[0m\u001b[1;33m\u001b[0m\u001b[1;33m\u001b[0m\u001b[0m\n\u001b[0;32m      5\u001b[0m     \u001b[1;31m# it cannot be directly typecast to a float or integer\u001b[0m\u001b[1;33m\u001b[0m\u001b[1;33m\u001b[0m\u001b[1;33m\u001b[0m\u001b[0m\n\u001b[1;32m----> 6\u001b[1;33m \u001b[0mfloat\u001b[0m\u001b[1;33m(\u001b[0m\u001b[1;34m'3.14.15'\u001b[0m\u001b[1;33m)\u001b[0m\u001b[1;33m\u001b[0m\u001b[1;33m\u001b[0m\u001b[0m\n\u001b[0m",
      "\u001b[1;31mValueError\u001b[0m: could not convert string to float: '3.14.15'"
     ]
    }
   ],
   "source": [
    "# if a string has a numerical value i.e. '2' or '55.5'\n",
    "# we can convert that string to an integer or float with int() or float()\n",
    "print(float('55.5'), type(float('55.5')))\n",
    "# if the string is a combination of numbers and letters or other characters\n",
    "    # it cannot be directly typecast to a float or integer\n",
    "float('3.14.15') # value error cannot convert"
   ]
  },
  {
   "cell_type": "code",
   "execution_count": 57,
   "metadata": {},
   "outputs": [
    {
     "name": "stdout",
     "output_type": "stream",
     "text": [
      "3.14 <class 'str'>\n"
     ]
    }
   ],
   "source": [
    "# type conversion to a string -> str()\n",
    "print(str(3.14), type(str(3.14)))"
   ]
  },
  {
   "cell_type": "code",
   "execution_count": 60,
   "metadata": {},
   "outputs": [
    {
     "name": "stdout",
     "output_type": "stream",
     "text": [
      "False\n",
      "True\n"
     ]
    }
   ],
   "source": [
    "# the value of strings compared to numerical data types\n",
    "# you may expect that '3' and 3 would be equal... they're both 3 right?\n",
    "# when comparing for equality of value in python\n",
    "# operator: ==\n",
    "# both value and type are checked\n",
    "print(3 == '3')\n",
    "print(3 == 3.0) # however, there is automatic comparison/conversion between numerical values"
   ]
  },
  {
   "cell_type": "markdown",
   "metadata": {},
   "source": [
    "##### input()"
   ]
  },
  {
   "cell_type": "code",
   "execution_count": 80,
   "metadata": {},
   "outputs": [
    {
     "name": "stdout",
     "output_type": "stream",
     "text": [
      "Favorite integer?3\n",
      "3 <class 'str'>\n",
      "3 <class 'int'>\n"
     ]
    }
   ],
   "source": [
    "# the role of this built-in is to prompt the user for input from the terminal\n",
    "# whatever input is given by the user is returned from this function as a string\n",
    "# input(<prompt to show the user>)\n",
    "returned_value = input('Favorite integer?')\n",
    "print(returned_value, type(returned_value))\n",
    "returned_value = int(returned_value)\n",
    "print(returned_value, type(returned_value))"
   ]
  },
  {
   "cell_type": "markdown",
   "metadata": {},
   "source": [
    "##### format()"
   ]
  },
  {
   "cell_type": "code",
   "execution_count": 69,
   "metadata": {},
   "outputs": [
    {
     "name": "stdout",
     "output_type": "stream",
     "text": [
      "The value of pi is 3.14. Ryan the Turtle's favorite food is pie.\n"
     ]
    }
   ],
   "source": [
    "# format and the f-string are ways to create a new string that is a combination of other values/variables\n",
    "x = 3.14\n",
    "s = 'Turtle'\n",
    "ryan_food = 'pie'\n",
    "\n",
    "to_be_formatted = 'The value of pi is {}. Ryan the {}\\'s favorite food is {}.'\n",
    "formatted_result = to_be_formatted.format(x, s, ryan_food)\n",
    "print(formatted_result)"
   ]
  },
  {
   "cell_type": "markdown",
   "metadata": {},
   "source": [
    "##### the easier approach: f-strings"
   ]
  },
  {
   "cell_type": "code",
   "execution_count": 78,
   "metadata": {},
   "outputs": [
    {
     "name": "stdout",
     "output_type": "stream",
     "text": [
      "The value of pi is 3.14.\n",
      "\tRyan the Turtle's favorite food is pie. <class 'str'>\n"
     ]
    }
   ],
   "source": [
    "# escaping characters with \\ -> \n",
    "    # if they have special functionality by default (i.e. '), that behaviour is removed\n",
    "    # if they don't have special functionality by default (i.e. n or t), new behaviour is added\n",
    "f_string_version = f\"The value of pi is {x}.\\n\\tRyan the {s}'s favorite food is {ryan_food}.\"\n",
    "print(f_string_version, type(f_string_version))"
   ]
  },
  {
   "cell_type": "markdown",
   "metadata": {},
   "source": [
    "# In-Class Exercise 1 <br>\n",
    "<p>Create a format statement that asks for color, year, make, model and prints out the results</p>"
   ]
  },
  {
   "cell_type": "code",
   "execution_count": 85,
   "metadata": {},
   "outputs": [
    {
     "name": "stdout",
     "output_type": "stream",
     "text": [
      "What color is your car? Red\n",
      "What year is your car? 2022\n",
      "What make is your car? Ferrari\n",
      "What model is your car? SF75\n",
      "This is a Red 2022 Ferrari SF75.\n"
     ]
    }
   ],
   "source": [
    "# use variables and the input function to ask the user for these 4 values\n",
    "# then print the four values in one sentence using an f-string or the format function\n",
    "color = input('What color is your car? ')\n",
    "year = input('What year is your car? ')\n",
    "make = input('What make is your car? ')\n",
    "model = input('What model is your car? ')\n",
    "print(f'This is a {color} {year} {make} {model}.')"
   ]
  },
  {
   "cell_type": "markdown",
   "metadata": {},
   "source": [
    "### If Statements"
   ]
  },
  {
   "cell_type": "code",
   "execution_count": 22,
   "metadata": {},
   "outputs": [
    {
     "name": "stdout",
     "output_type": "stream",
     "text": [
      "thats true\n",
      "also true\n"
     ]
    }
   ],
   "source": [
    "# Available operators: Greater(>), Less(<),Equal(==)\n",
    "# Greater or Equal(>=), Less or Equal (<=)\n",
    "if 3 > 2:\n",
    "    print('thats true')\n",
    "if 1.9 + 0.1 <= 2.0:\n",
    "    print('also true')"
   ]
  },
  {
   "cell_type": "code",
   "execution_count": 7,
   "metadata": {},
   "outputs": [
    {
     "name": "stdout",
     "output_type": "stream",
     "text": [
      "True!\n",
      "True <class 'bool'>\n"
     ]
    }
   ],
   "source": [
    "# value equality comparison: ==\n",
    "# both value and type\n",
    "# every conditional is structured:\n",
    "    # <value> comparison_operator <value>\n",
    "    # the entire conditional is evaluated before a true/false is determined\n",
    "x = 4\n",
    "if x%2 == 0:\n",
    "    print('True!')\n",
    "    \n",
    "print(x%2 == 0, type(x%2 == 0)) # the expression itself has a boolean value\n",
    "# boolean is our fourth main datatype - it has two values: True or False"
   ]
  },
  {
   "cell_type": "code",
   "execution_count": 8,
   "metadata": {},
   "outputs": [
    {
     "name": "stdout",
     "output_type": "stream",
     "text": [
      "This is true... the integer conversion of \"3\" is 3\n"
     ]
    }
   ],
   "source": [
    "# compare '3' to 3\n",
    "# == considers them different because they have different datatypes\n",
    "# a condition where '3' and 3 are equal\n",
    "if int('3') == 3:\n",
    "    print('This is true... the integer conversion of \"3\" is 3')"
   ]
  },
  {
   "cell_type": "code",
   "execution_count": 23,
   "metadata": {},
   "outputs": [
    {
     "name": "stdout",
     "output_type": "stream",
     "text": [
      "capital vs. lowercase h\n"
     ]
    }
   ],
   "source": [
    "# not equal\n",
    "# != -> true if the values are not equal\n",
    "if 'hello' != 'Hello':\n",
    "    print('capital vs. lowercase h')"
   ]
  },
  {
   "cell_type": "markdown",
   "metadata": {},
   "source": [
    "##### 'is' keyword"
   ]
  },
  {
   "cell_type": "code",
   "execution_count": 27,
   "metadata": {
    "scrolled": true
   },
   "outputs": [
    {
     "name": "stdout",
     "output_type": "stream",
     "text": [
      "['Hello'] ['Hello'] ['Hello']\n",
      "True\n",
      "False\n",
      "True\n"
     ]
    }
   ],
   "source": [
    "# comparison of reference equality\n",
    "# do these two values have the same memory location\n",
    "# not commonly used and little more complex and specific comparison of equality\n",
    "a = ['Hello']\n",
    "b = ['Hello']\n",
    "c = a\n",
    "print(a, b, c)\n",
    "print(a == b)\n",
    "print(a is b)\n",
    "print(a is c)"
   ]
  },
  {
   "cell_type": "markdown",
   "metadata": {},
   "source": [
    "##### 'in' keyword"
   ]
  },
  {
   "cell_type": "code",
   "execution_count": 28,
   "metadata": {},
   "outputs": [
    {
     "name": "stdout",
     "output_type": "stream",
     "text": [
      "This string contains Fox\n"
     ]
    }
   ],
   "source": [
    "# membership test\n",
    "# is a piece of data present in a larger collection\n",
    "# this can be a value in a list\n",
    "# a substring in a string\n",
    "# a key in a dictionary\n",
    "my_string = 'Fennec Foxes have the largest ear-to-body ratio of any mammal.'\n",
    "# if <string> in <larger_string>:\n",
    "    # true if the string is part of the larger string, false otherwise\n",
    "if 'Fox' in my_string:\n",
    "    print('This string contains Fox')"
   ]
  },
  {
   "cell_type": "markdown",
   "metadata": {},
   "source": [
    "##### not keyword"
   ]
  },
  {
   "cell_type": "code",
   "execution_count": 31,
   "metadata": {},
   "outputs": [
    {
     "name": "stdout",
     "output_type": "stream",
     "text": [
      "inverted\n",
      "False\n",
      "True\n"
     ]
    }
   ],
   "source": [
    "# the role of the not keyword is to invert any conditional\n",
    "# where 'in' returns true if the value is present in the collection\n",
    "# 'not in' returns false if the value is present in the collection\n",
    "# similarly, we can use not on pretty much any conditional to invert it\n",
    "if 'Fox' not in my_string:\n",
    "    print('this wont print, Fox is in the string')\n",
    "\n",
    "if not 3 < 2:\n",
    "    print('inverted')\n",
    "    \n",
    "print(not True)\n",
    "print(not False)"
   ]
  },
  {
   "cell_type": "markdown",
   "metadata": {},
   "source": [
    "# In-Class Exercise 2 <br>\n",
    "<p>Ask user for input, check to see if the letter 'p' is in the input</p>"
   ]
  },
  {
   "cell_type": "code",
   "execution_count": 5,
   "metadata": {},
   "outputs": [
    {
     "name": "stdout",
     "output_type": "stream",
     "text": [
      "Who will win the NBA final this year? Celtics\n",
      "Correct, the Celtics are the right answer.\n"
     ]
    }
   ],
   "source": [
    "some_var = input('Who will win the NBA final this year? ')\n",
    "\n",
    "if 'p' in some_var:\n",
    "    print('p in input answer')\n",
    "else:\n",
    "    print('Correct, the Celtics are the right answer.')"
   ]
  },
  {
   "cell_type": "code",
   "execution_count": 16,
   "metadata": {},
   "outputs": [
    {
     "name": "stdout",
     "output_type": "stream",
     "text": [
      "no p\n"
     ]
    }
   ],
   "source": [
    "# What if I want to test for either 'p' or 'P'?\n",
    "# Two approaches ->\n",
    "    # test for both independently\n",
    "    # test for 'p' against a lowercase version of the input string\n",
    "# if 'p' or 'P' in some_var: WONT WORK -> MUST BE COMPLETE CONDITIONALS EITHER SIDE OF OR\n",
    "if 'p' in some_var or 'P' in some_var:\n",
    "    print('true! p is present')\n",
    "else:\n",
    "    print('no p')"
   ]
  },
  {
   "cell_type": "code",
   "execution_count": 17,
   "metadata": {},
   "outputs": [
    {
     "name": "stdout",
     "output_type": "stream",
     "text": [
      "no p\n",
      "Celtics\n"
     ]
    }
   ],
   "source": [
    "# test for 'p' against a lowercase version of the input string\n",
    "if 'p' in some_var.lower():\n",
    "    print('P or p present.')\n",
    "else:\n",
    "    print('no p')\n",
    "print(some_var)"
   ]
  },
  {
   "cell_type": "code",
   "execution_count": 13,
   "metadata": {},
   "outputs": [
    {
     "name": "stdout",
     "output_type": "stream",
     "text": [
      "any non-empty string evaluates to true\n"
     ]
    }
   ],
   "source": [
    "# every variable has an underlying/inherent True/False value\n",
    "if 'p':\n",
    "    print('any non-empty string evaluates to true')"
   ]
  },
  {
   "cell_type": "markdown",
   "metadata": {},
   "source": [
    "## Using 'and'/'or' with If Statements"
   ]
  },
  {
   "cell_type": "code",
   "execution_count": 25,
   "metadata": {},
   "outputs": [
    {
     "name": "stdout",
     "output_type": "stream",
     "text": [
      "always true\n"
     ]
    }
   ],
   "source": [
    "# the and and or keywords allow us to combine multiple conditionals into one conditional statement\n",
    "# both sides of the and/or must be complete conditionals and are evaluated separately before the and/or is evaluated\n",
    "\n",
    "# Truth Tree:\n",
    "# T and F = F\n",
    "# T and T = T\n",
    "# F and F = F\n",
    "# T or T = T\n",
    "# T or F = T\n",
    "# F or T = T\n",
    "# F or F = F\n",
    "\n",
    "# a conditional that actually is always true regardless of the number provided\n",
    "num = 56\n",
    "if num%2 == 0 or num%2 != 0:\n",
    "    print('always true')"
   ]
  },
  {
   "cell_type": "code",
   "execution_count": 26,
   "metadata": {},
   "outputs": [
    {
     "name": "stdout",
     "output_type": "stream",
     "text": [
      "divisible by 2 and greater than 50!\n"
     ]
    }
   ],
   "source": [
    "# we can place conditionals inside other conditionals\n",
    "if num > 50:\n",
    "    if num%2 == 0:\n",
    "        print('divisible by 2 and greater than 50!')"
   ]
  },
  {
   "cell_type": "markdown",
   "metadata": {},
   "source": [
    "### Elif Statements"
   ]
  },
  {
   "cell_type": "code",
   "execution_count": 38,
   "metadata": {},
   "outputs": [
    {
     "name": "stdout",
     "output_type": "stream",
     "text": [
      "an elderly pup.\n"
     ]
    }
   ],
   "source": [
    "# elif (aka else if) must follow an if statement\n",
    "# if the preceeding if statement was true, the elif statement is not even evaluated\n",
    "# if the preceeding if statement was false, the elif statement is evaluated\n",
    "    # and from there works exactly the same as an if statement\n",
    "age = 12\n",
    "if age < 1:\n",
    "    print('Still a puppy!')\n",
    "elif age < 3:\n",
    "    print('Uh oh...')\n",
    "elif age < 10:\n",
    "    print('Dog.')\n",
    "else:\n",
    "    print('an elderly pup.')"
   ]
  },
  {
   "cell_type": "markdown",
   "metadata": {},
   "source": [
    "### Else Statements"
   ]
  },
  {
   "cell_type": "code",
   "execution_count": null,
   "metadata": {},
   "outputs": [],
   "source": [
    "# see above\n",
    "# does not include a conditional\n",
    "# the else statement is a catch all for no preceeding if or elif statement evaluating to true"
   ]
  },
  {
   "cell_type": "code",
   "execution_count": 43,
   "metadata": {},
   "outputs": [
    {
     "name": "stdout",
     "output_type": "stream",
     "text": [
      "an elderly chap.\n"
     ]
    }
   ],
   "source": [
    "# nesting - conditionals can have further conditionals in their code blocks\n",
    "age = 12\n",
    "nationality = 'British'\n",
    "if age < 1:\n",
    "    print('Still a puppy!')\n",
    "elif age < 3:\n",
    "    print('Uh oh...')\n",
    "elif age < 10:\n",
    "    print('Dog.')\n",
    "else:\n",
    "    if nationality == 'British':\n",
    "        print('an elderly chap.')\n",
    "    elif nationality == 'American':\n",
    "        print('an old dog')"
   ]
  },
  {
   "cell_type": "markdown",
   "metadata": {},
   "source": [
    "### For Loops"
   ]
  },
  {
   "cell_type": "code",
   "execution_count": 46,
   "metadata": {},
   "outputs": [
    {
     "name": "stdout",
     "output_type": "stream",
     "text": [
      "current step letter: F\n",
      "current step letter: o\n",
      "current step letter: x\n",
      "current step letter: e\n",
      "current step letter: s\n"
     ]
    }
   ],
   "source": [
    "# for-in loop is simplest and most direct method of looping in python\n",
    "# we are creating a code block that will run one time for each small piece of an iterable\n",
    "# What is an iterable? Anything you can loop through (strings, lists, dictionaries, sets, tuples, range())\n",
    "\n",
    "# for <some_variable> in <some_interable>:\n",
    "    # <some_variable> will represent one small piece of the larger iterable\n",
    "# when looping this way through a string, <some_variable> will be a single letter/character from the string\n",
    "classname = 'Foxes'\n",
    "for placeholder in classname:\n",
    "    # placeholder is a variable that you name (can be anything)\n",
    "    # that is for use inside of the for loop\n",
    "    print(f'current step letter: {placeholder}')"
   ]
  },
  {
   "cell_type": "markdown",
   "metadata": {},
   "source": [
    "##### Using 'in' keyword"
   ]
  },
  {
   "cell_type": "code",
   "execution_count": null,
   "metadata": {},
   "outputs": [],
   "source": [
    "# see above"
   ]
  },
  {
   "cell_type": "markdown",
   "metadata": {},
   "source": [
    "##### Continue Statement"
   ]
  },
  {
   "cell_type": "code",
   "execution_count": null,
   "metadata": {},
   "outputs": [],
   "source": [
    "# will continue to next step of the iteration"
   ]
  },
  {
   "cell_type": "code",
   "execution_count": 51,
   "metadata": {},
   "outputs": [
    {
     "name": "stdout",
     "output_type": "stream",
     "text": [
      "current step letter: F\n",
      "thats a cool letter\n",
      "current step letter: o\n",
      "thats a cool letter\n",
      "current step letter: x\n",
      "current step letter: e\n",
      "thats a cool letter\n",
      "current step letter: s\n",
      "thats a cool letter\n"
     ]
    }
   ],
   "source": [
    "for letter in classname:\n",
    "    print(f'current step letter: {letter}')\n",
    "    if letter == 'x':\n",
    "        continue\n",
    "    print('thats a cool letter')"
   ]
  },
  {
   "cell_type": "markdown",
   "metadata": {},
   "source": [
    "##### Break Statement"
   ]
  },
  {
   "cell_type": "code",
   "execution_count": null,
   "metadata": {},
   "outputs": [],
   "source": [
    "# will break out of current loop"
   ]
  },
  {
   "cell_type": "code",
   "execution_count": 49,
   "metadata": {},
   "outputs": [
    {
     "name": "stdout",
     "output_type": "stream",
     "text": [
      "current step letter: F\n",
      "current step letter: o\n",
      "current step letter: x\n"
     ]
    }
   ],
   "source": [
    "classname = 'Foxes'\n",
    "for letter in classname:\n",
    "    print(f'current step letter: {letter}')\n",
    "    if letter == 'x':\n",
    "        break"
   ]
  },
  {
   "cell_type": "markdown",
   "metadata": {},
   "source": [
    "##### Pass Statement"
   ]
  },
  {
   "cell_type": "code",
   "execution_count": null,
   "metadata": {},
   "outputs": [],
   "source": [
    "# mostly used as a placeholder, and will continue on same iteration\n",
    "# essentially does nothing... just used to avoid errors"
   ]
  },
  {
   "cell_type": "code",
   "execution_count": 54,
   "metadata": {},
   "outputs": [
    {
     "name": "stdout",
     "output_type": "stream",
     "text": [
      "current step letter: F\n",
      "thats a cool letter\n",
      "current step letter: o\n",
      "thats a cool letter\n",
      "current step letter: x\n",
      "thats a cool letter\n",
      "current step letter: e\n",
      "thats a cool letter\n",
      "current step letter: s\n",
      "thats a cool letter\n"
     ]
    }
   ],
   "source": [
    "for letter in classname:\n",
    "    print(f'current step letter: {letter}')\n",
    "    if letter == 'x':\n",
    "        # hmm what do I want to do here?\n",
    "        pass # avoids the indentation error\n",
    "    print('thats a cool letter')"
   ]
  },
  {
   "cell_type": "markdown",
   "metadata": {},
   "source": [
    "##### Double For Loops"
   ]
  },
  {
   "cell_type": "code",
   "execution_count": 6,
   "metadata": {},
   "outputs": [
    {
     "name": "stdout",
     "output_type": "stream",
     "text": [
      "H W\n",
      "H o\n",
      "H r\n",
      "H l\n",
      "H d\n",
      "e W\n",
      "e o\n",
      "e r\n",
      "e l\n",
      "e d\n",
      "l W\n",
      "l o\n",
      "l r\n",
      "l l\n",
      "l d\n",
      "l W\n",
      "l o\n",
      "l r\n",
      "l l\n",
      "l d\n",
      "o W\n",
      "o o\n",
      "o r\n",
      "o l\n",
      "o d\n"
     ]
    }
   ],
   "source": [
    "# aka nested for loops\n",
    "my_string = 'Hello'\n",
    "other_string = 'World'\n",
    "for letter in my_string:\n",
    "    # the inner loop will run fully for each step of the outer loop\n",
    "    for character in other_string:\n",
    "        # the placeholder from the outer loop is accessible in the inner loop\n",
    "        print(letter, character)"
   ]
  },
  {
   "cell_type": "markdown",
   "metadata": {},
   "source": [
    "### While Loops"
   ]
  },
  {
   "cell_type": "code",
   "execution_count": 2,
   "metadata": {},
   "outputs": [
    {
     "name": "stdout",
     "output_type": "stream",
     "text": [
      "my computer hates me 2\n",
      "my computer hates me 3\n",
      "my computer hates me 4\n",
      "my computer hates me 5\n",
      "my computer hates me 6\n",
      "my computer hates me 7\n",
      "my computer hates me 8\n",
      "my computer hates me 9\n",
      "my computer hates me 10\n",
      "my computer hates me 11\n",
      "my computer hates me 12\n",
      "my computer hates me 13\n",
      "my computer hates me 14\n",
      "my computer hates me 15\n",
      "my computer hates me 16\n",
      "my computer hates me 17\n",
      "my computer hates me 18\n",
      "my computer hates me 19\n"
     ]
    }
   ],
   "source": [
    "# a while loop is based on a conditional\n",
    "# the loop will continue to run as long as that conditional evaluates to true\n",
    "number = 2\n",
    "while number < 20:\n",
    "    print('my computer hates me', number)\n",
    "    number = number + 1"
   ]
  },
  {
   "cell_type": "markdown",
   "metadata": {},
   "source": [
    "##### Looping 'While True'"
   ]
  },
  {
   "cell_type": "code",
   "execution_count": 6,
   "metadata": {},
   "outputs": [
    {
     "name": "stdout",
     "output_type": "stream",
     "text": [
      "shopping\n",
      "Would you like to stop shopping? (Yes to quit) \n",
      "shopping\n",
      "Would you like to stop shopping? (Yes to quit) \n",
      "shopping\n",
      "Would you like to stop shopping? (Yes to quit) \n",
      "shopping\n",
      "Would you like to stop shopping? (Yes to quit) \n",
      "shopping\n",
      "Would you like to stop shopping? (Yes to quit) \n",
      "shopping\n",
      "Would you like to stop shopping? (Yes to quit) \n",
      "shopping\n",
      "Would you like to stop shopping? (Yes to quit) \n",
      "shopping\n",
      "Would you like to stop shopping? (Yes to quit) \n",
      "shopping\n",
      "Would you like to stop shopping? (Yes to quit) \n",
      "shopping\n",
      "Would you like to stop shopping? (Yes to quit) \n",
      "shopping\n",
      "Would you like to stop shopping? (Yes to quit) \n",
      "shopping\n",
      "Would you like to stop shopping? (Yes to quit) \n",
      "shopping\n",
      "Would you like to stop shopping? (Yes to quit) \n",
      "shopping\n",
      "Would you like to stop shopping? (Yes to quit) \n",
      "shopping\n",
      "Would you like to stop shopping? (Yes to quit) \n",
      "shopping\n",
      "Would you like to stop shopping? (Yes to quit) yes\n"
     ]
    }
   ],
   "source": [
    "# a break statement can be used to end a while True loop\n",
    "while True:\n",
    "    print('shopping')\n",
    "    # dealing with user input\n",
    "    best_team = input('Would you like to stop shopping? (Yes to quit) ')\n",
    "    # a conditional to determine when to break the otherwise infinite loop\n",
    "    if best_team.lower() == 'yes':\n",
    "        break"
   ]
  },
  {
   "cell_type": "markdown",
   "metadata": {},
   "source": [
    "##### While & For Loops Used Together"
   ]
  },
  {
   "cell_type": "code",
   "execution_count": 7,
   "metadata": {},
   "outputs": [
    {
     "name": "stdout",
     "output_type": "stream",
     "text": [
      "What is your favorite animal? Black Bear\n",
      "B\n",
      "l\n",
      "a\n",
      "c\n",
      "k\n",
      " \n",
      "B\n",
      "e\n",
      "a\n",
      "r\n",
      "What is your favorite animal? Panda\n",
      "P\n",
      "a\n",
      "n\n",
      "d\n",
      "a\n",
      "What is your favorite animal? Fennec Fox\n",
      "F\n",
      "e\n",
      "n\n",
      "n\n",
      "e\n",
      "c\n",
      " \n",
      "F\n",
      "o\n",
      "x\n",
      "What is your favorite animal? Fossa\n",
      "F\n",
      "o\n",
      "s\n",
      "s\n",
      "a\n"
     ]
    }
   ],
   "source": [
    "while True:\n",
    "    favorite_animal = input('What is your favorite animal? ')\n",
    "    for letter in favorite_animal:\n",
    "        print(letter)\n",
    "    if favorite_animal == 'Fossa':\n",
    "        break"
   ]
  },
  {
   "cell_type": "code",
   "execution_count": 17,
   "metadata": {},
   "outputs": [
    {
     "name": "stdout",
     "output_type": "stream",
     "text": [
      "0\n",
      "12\n",
      "13\n",
      "14\n",
      "15\n",
      "27\n",
      "28\n",
      "29\n",
      "30\n",
      "42\n",
      "43\n",
      "44\n",
      "45\n",
      "57\n",
      "58\n",
      "59\n",
      "60\n",
      "72\n",
      "73\n",
      "74\n",
      "75\n",
      "87\n",
      "88\n",
      "89\n",
      "90\n"
     ]
    }
   ],
   "source": [
    "# an example of the additional control provided by a while loop\n",
    "# with a while loop, we can really do all the things we might otherwise do with a for loop\n",
    "# but we also have the additional control over how we step\n",
    "number = 0\n",
    "while number < 100:\n",
    "    print(number)\n",
    "    if number%5 == 0:\n",
    "        number = number + 12\n",
    "    else:\n",
    "        number = number + 1"
   ]
  },
  {
   "cell_type": "code",
   "execution_count": 27,
   "metadata": {},
   "outputs": [
    {
     "name": "stdout",
     "output_type": "stream",
     "text": [
      "index 0 contains F\n",
      "index 1 contains e\n",
      "index 2 contains n\n",
      "index 3 contains n\n",
      "index 4 contains e\n",
      "index 5 contains c\n",
      "index 6 contains  \n",
      "index 7 contains F\n",
      "index 8 contains o\n",
      "index 9 contains x\n"
     ]
    }
   ],
   "source": [
    "# the index for loop\n",
    "animal = 'Fennec Fox'\n",
    "for i in range(len(animal)):\n",
    "    print(f'index {i} contains {animal[i]}')"
   ]
  },
  {
   "cell_type": "markdown",
   "metadata": {},
   "source": [
    "### Built-In Functions"
   ]
  },
  {
   "cell_type": "markdown",
   "metadata": {},
   "source": [
    "##### range()"
   ]
  },
  {
   "cell_type": "code",
   "execution_count": 12,
   "metadata": {},
   "outputs": [
    {
     "name": "stdout",
     "output_type": "stream",
     "text": [
      "1\n",
      "3\n",
      "5\n",
      "7\n",
      "9\n",
      "0\n",
      "1\n",
      "2\n",
      "10\n",
      "7\n",
      "4\n",
      "1\n"
     ]
    }
   ],
   "source": [
    "# range(<start>, stop, <step>)\n",
    "# start, stop, and step must be integers\n",
    "# range then generates integers values starting at the start, stopping before the stop, changing by the step\n",
    "# range does not generate these values until it needs to so directly printing a range() function doesn't show all values\n",
    "# but looping through the range loops through all the values\n",
    "# start -> default 0\n",
    "# stop -> no default\n",
    "# step -> default 1\n",
    "for num in range(1, 10, 2):\n",
    "    print(num)\n",
    "    \n",
    "for num in range(3):\n",
    "    print(num)\n",
    "    \n",
    "for num in range(10, 0, -3):\n",
    "    print(num)"
   ]
  },
  {
   "cell_type": "markdown",
   "metadata": {},
   "source": [
    "##### len()"
   ]
  },
  {
   "cell_type": "code",
   "execution_count": 18,
   "metadata": {},
   "outputs": [
    {
     "data": {
      "text/plain": [
       "10"
      ]
     },
     "execution_count": 18,
     "metadata": {},
     "output_type": "execute_result"
    }
   ],
   "source": [
    "# accepts most iterables (strings, lists, dictionaries, sets, tuples)\n",
    "# returns the length of that iterable as an integer\n",
    "len('Fennec Fox')"
   ]
  },
  {
   "cell_type": "code",
   "execution_count": 22,
   "metadata": {},
   "outputs": [
    {
     "data": {
      "text/plain": [
       "'c'"
      ]
     },
     "execution_count": 22,
     "metadata": {},
     "output_type": "execute_result"
    }
   ],
   "source": [
    "# index system - every string and list is indexed - meaning their individual letters/values can be accessed by index number\n",
    "'Fennec Fox'\n",
    "# index numbers can be used to access a single piece of a larger structure\n",
    "# string[<index_number>] - indexing into a string\n",
    "'Fennec Fox'[5]"
   ]
  },
  {
   "cell_type": "markdown",
   "metadata": {},
   "source": [
    "##### help()"
   ]
  },
  {
   "cell_type": "code",
   "execution_count": 8,
   "metadata": {},
   "outputs": [
    {
     "name": "stdout",
     "output_type": "stream",
     "text": [
      "Help on _Helper in module _sitebuiltins object:\n",
      "\n",
      "class _Helper(builtins.object)\n",
      " |  Define the builtin 'help'.\n",
      " |  \n",
      " |  This is a wrapper around pydoc.help that provides a helpful message\n",
      " |  when 'help' is typed at the Python interactive prompt.\n",
      " |  \n",
      " |  Calling help() at the Python prompt starts an interactive help session.\n",
      " |  Calling help(thing) prints help for the python object 'thing'.\n",
      " |  \n",
      " |  Methods defined here:\n",
      " |  \n",
      " |  __call__(self, *args, **kwds)\n",
      " |      Call self as a function.\n",
      " |  \n",
      " |  __repr__(self)\n",
      " |      Return repr(self).\n",
      " |  \n",
      " |  ----------------------------------------------------------------------\n",
      " |  Data descriptors defined here:\n",
      " |  \n",
      " |  __dict__\n",
      " |      dictionary for instance variables (if defined)\n",
      " |  \n",
      " |  __weakref__\n",
      " |      list of weak references to the object (if defined)\n",
      "\n"
     ]
    }
   ],
   "source": [
    "help(help)\n",
    "\n",
    "# I much prefer google as a reference instead of help() or ?\n",
    "# when googling, always specify the language...\n",
    "    # don't just google range()\n",
    "    # google python range()\n",
    "    # you'll get more applicable results\n",
    "range?\n",
    "# ? pulls up the docstring aka documentation description of a method/class/object/function/variable \n",
    "# ? must be on its own on a line otherwise you will get an error"
   ]
  },
  {
   "cell_type": "markdown",
   "metadata": {},
   "source": [
    "##### isinstance()"
   ]
  },
  {
   "cell_type": "code",
   "execution_count": 10,
   "metadata": {},
   "outputs": [
    {
     "name": "stdout",
     "output_type": "stream",
     "text": [
      "This is a string\n"
     ]
    }
   ],
   "source": [
    "# allows us to check whether or not a variable is a certain type\n",
    "# most commonly used in conditionals as it returns a boolean value\n",
    "# true if the variable matches the type\n",
    "# str for string, int for integer, float, list, dict for dictionary, set\n",
    "# false otherwise\n",
    "a_var = 'Fox'\n",
    "if isinstance(a_var, str):\n",
    "    print('This is a string')"
   ]
  },
  {
   "cell_type": "markdown",
   "metadata": {},
   "source": [
    "##### abs()"
   ]
  },
  {
   "cell_type": "code",
   "execution_count": 13,
   "metadata": {},
   "outputs": [
    {
     "name": "stdout",
     "output_type": "stream",
     "text": [
      "5\n",
      "5\n"
     ]
    }
   ],
   "source": [
    "# absolute value function\n",
    "# accepts a number, returns the positive version of that number\n",
    "print(abs(-5))\n",
    "print(abs(5))"
   ]
  },
  {
   "cell_type": "markdown",
   "metadata": {},
   "source": [
    "### Try and Except"
   ]
  },
  {
   "cell_type": "code",
   "execution_count": 38,
   "metadata": {},
   "outputs": [
    {
     "name": "stdout",
     "output_type": "stream",
     "text": [
      "What is your favorite number?34\n",
      "Your favorite number is: 34.0\n"
     ]
    }
   ],
   "source": [
    "# if you have code that may produce an error in specific situations, you can place that code inside of a try block\n",
    "# if the code in the try block results in a error, instead of breaking, your program will look to run the except block\n",
    "try:\n",
    "    favorite_number = input('What is your favorite number?')\n",
    "    favorite_number = float(favorite_number)\n",
    "    print(f'Your favorite number is: {favorite_number}')\n",
    "except:\n",
    "    print('You didnt give me a number....')"
   ]
  },
  {
   "cell_type": "code",
   "execution_count": 40,
   "metadata": {},
   "outputs": [
    {
     "name": "stdout",
     "output_type": "stream",
     "text": [
      "0 F\n",
      "1 e\n",
      "2 n\n",
      "3 n\n",
      "4 e\n",
      "5 c\n",
      "6  \n",
      "7 F\n",
      "8 o\n",
      "9 x\n"
     ]
    }
   ],
   "source": [
    "my_string = 'Fennec Fox'\n",
    "# i want to write an index loop here\n",
    "for i in range(len(my_string)):\n",
    "    # before I start trying to write my real complete code here\n",
    "    # I should test that this loop is actually looping the way I expect\n",
    "    print(i, my_string[i])"
   ]
  },
  {
   "cell_type": "markdown",
   "metadata": {},
   "source": [
    "### Lists"
   ]
  },
  {
   "cell_type": "markdown",
   "metadata": {},
   "source": [
    "##### Declaring Lists"
   ]
  },
  {
   "cell_type": "code",
   "execution_count": 42,
   "metadata": {},
   "outputs": [
    {
     "name": "stdout",
     "output_type": "stream",
     "text": [
      "['Fennec Fox', 'Babirusa', 'Sea Otter', 'Echidna'] <class 'list'>\n",
      "['Some String', 3, 3.14, False, ['Stuff', 'Things']]\n"
     ]
    }
   ],
   "source": [
    "# syntax clue: [value, value, value]\n",
    "animals = ['Fennec Fox', 'Babirusa', 'Sea Otter', 'Echidna']\n",
    "print(animals, type(animals))\n",
    "# lists can contain any type of data and any mix of types of data\n",
    "stuff = ['Some String', 3, 3.14, False, ['Stuff', 'Things']]\n",
    "print(stuff)"
   ]
  },
  {
   "cell_type": "markdown",
   "metadata": {},
   "source": [
    "##### Indexing a List"
   ]
  },
  {
   "cell_type": "code",
   "execution_count": 46,
   "metadata": {},
   "outputs": [
    {
     "name": "stdout",
     "output_type": "stream",
     "text": [
      "['Fennec Fox', 'Babirusa', 'Sea Otter', 'Echidna']\n",
      "['Fennec Fox', 'Babirusa', 'River Otter', 'Echidna']\n"
     ]
    }
   ],
   "source": [
    "# name_of_list[<index_number>]\n",
    "animals[1]\n",
    "\n",
    "# unlike strings, lists are mutable\n",
    "# we can redefine the value at an index in a list\n",
    "print(animals)\n",
    "animals[2] = 'River Otter'\n",
    "print(animals)"
   ]
  },
  {
   "cell_type": "markdown",
   "metadata": {},
   "source": [
    "##### .append()"
   ]
  },
  {
   "cell_type": "code",
   "execution_count": 47,
   "metadata": {},
   "outputs": [
    {
     "name": "stdout",
     "output_type": "stream",
     "text": [
      "['Fennec Fox', 'Babirusa', 'River Otter', 'Echidna']\n",
      "['Fennec Fox', 'Babirusa', 'River Otter', 'Echidna', 'Aardvark', 'Orca']\n"
     ]
    }
   ],
   "source": [
    "# adding to the end of a list\n",
    "# name_of_list.append(<new_value>)\n",
    "panda_torpedo = 'Orca'\n",
    "print(animals)\n",
    "animals.append('Aardvark')\n",
    "animals.append(panda_torpedo)\n",
    "print(animals)"
   ]
  },
  {
   "cell_type": "markdown",
   "metadata": {},
   "source": [
    "##### .insert()"
   ]
  },
  {
   "cell_type": "code",
   "execution_count": 48,
   "metadata": {},
   "outputs": [
    {
     "name": "stdout",
     "output_type": "stream",
     "text": [
      "['Fennec Fox', 'Babirusa', 'River Otter', 'Echidna', 'Aardvark', 'Orca']\n",
      "['Penguin', 'Fennec Fox', 'Babirusa', 'River Otter', 'Echidna', 'Aardvark', 'Orca']\n"
     ]
    }
   ],
   "source": [
    "# adding at a certain index number\n",
    "print(animals)\n",
    "animals.insert(0, 'Penguin')\n",
    "print(animals)"
   ]
  },
  {
   "cell_type": "markdown",
   "metadata": {},
   "source": [
    "##### .pop()"
   ]
  },
  {
   "cell_type": "code",
   "execution_count": 50,
   "metadata": {},
   "outputs": [
    {
     "name": "stdout",
     "output_type": "stream",
     "text": [
      "['Penguin', 'Fennec Fox', 'Babirusa', 'River Otter', 'Echidna', 'Aardvark', 'Orca']\n",
      "Penguin\n",
      "['Fennec Fox', 'Babirusa', 'River Otter', 'Echidna', 'Aardvark', 'Orca']\n"
     ]
    }
   ],
   "source": [
    "# index-based removal\n",
    "# list.pop() -> remove the value from the end of the list\n",
    "# or we specify an index number and the value at that index number is removed and returned\n",
    "print(animals)\n",
    "removed = animals.pop(0) # remove the value at index#0 and shift the other elements forward in the list\n",
    "print(removed)\n",
    "print(animals)"
   ]
  },
  {
   "cell_type": "markdown",
   "metadata": {},
   "source": [
    "\n",
    "##### .remove()"
   ]
  },
  {
   "cell_type": "code",
   "execution_count": 52,
   "metadata": {},
   "outputs": [
    {
     "name": "stdout",
     "output_type": "stream",
     "text": [
      "['Fennec Fox', 'Babirusa', 'River Otter', 'Echidna', 'Aardvark', 'Orca']\n",
      "['Fennec Fox', 'Babirusa', 'River Otter', 'Echidna', 'Orca']\n"
     ]
    }
   ],
   "source": [
    "# value-based removal\n",
    "# check if the value is in the list, then remove it\n",
    "    # if the value isn't present, .remove() produces an error\n",
    "print(animals)\n",
    "nothing = animals.remove('Aardvark')\n",
    "print(animals)"
   ]
  },
  {
   "cell_type": "code",
   "execution_count": 53,
   "metadata": {},
   "outputs": [
    {
     "name": "stdout",
     "output_type": "stream",
     "text": [
      "None\n"
     ]
    }
   ],
   "source": [
    "# .remove() returns None\n",
    "print(nothing)"
   ]
  },
  {
   "cell_type": "markdown",
   "metadata": {},
   "source": [
    "##### del"
   ]
  },
  {
   "cell_type": "code",
   "execution_count": 55,
   "metadata": {},
   "outputs": [
    {
     "name": "stdout",
     "output_type": "stream",
     "text": [
      "['Fennec Fox', 'Babirusa', 'River Otter', 'Echidna', 'Orca']\n"
     ]
    },
    {
     "ename": "NameError",
     "evalue": "name 'animals' is not defined",
     "output_type": "error",
     "traceback": [
      "\u001b[1;31m---------------------------------------------------------------------------\u001b[0m",
      "\u001b[1;31mNameError\u001b[0m                                 Traceback (most recent call last)",
      "\u001b[1;32m<ipython-input-55-c9d53a37ceab>\u001b[0m in \u001b[0;36m<module>\u001b[1;34m\u001b[0m\n\u001b[0;32m      3\u001b[0m \u001b[0mprint\u001b[0m\u001b[1;33m(\u001b[0m\u001b[0manimals\u001b[0m\u001b[1;33m)\u001b[0m\u001b[1;33m\u001b[0m\u001b[1;33m\u001b[0m\u001b[0m\n\u001b[0;32m      4\u001b[0m \u001b[1;32mdel\u001b[0m \u001b[0manimals\u001b[0m\u001b[1;33m\u001b[0m\u001b[1;33m\u001b[0m\u001b[0m\n\u001b[1;32m----> 5\u001b[1;33m \u001b[0mprint\u001b[0m\u001b[1;33m(\u001b[0m\u001b[0manimals\u001b[0m\u001b[1;33m)\u001b[0m\u001b[1;33m\u001b[0m\u001b[1;33m\u001b[0m\u001b[0m\n\u001b[0m",
      "\u001b[1;31mNameError\u001b[0m: name 'animals' is not defined"
     ]
    }
   ],
   "source": [
    "# delete keyword\n",
    "# completely erases a list from memory\n",
    "print(animals)\n",
    "del animals\n",
    "print(animals)"
   ]
  },
  {
   "cell_type": "markdown",
   "metadata": {},
   "source": [
    "##### Concatenating Two Lists"
   ]
  },
  {
   "cell_type": "code",
   "execution_count": 58,
   "metadata": {},
   "outputs": [
    {
     "name": "stdout",
     "output_type": "stream",
     "text": [
      "['Manchester City', 'Real Madrid', 'Liverpool', 'Sevilla', 'Chelsea', 'Luton Town Hatters']\n",
      "['Manchester City', 'Real Madrid', 'Liverpool']\n",
      "['Sevilla', 'Chelsea', 'Luton Town Hatters']\n"
     ]
    }
   ],
   "source": [
    "# same idea as string concatenation\n",
    "list_a = ['Manchester City', 'Real Madrid', 'Liverpool']\n",
    "list_b = ['Sevilla', 'Chelsea', 'Luton Town Hatters']\n",
    "list_c = list_a + list_b # generates a new third list that combines the values\n",
    "# string concatenation does not alter either original list\n",
    "print(list_c)\n",
    "print(list_a)\n",
    "print(list_b)"
   ]
  },
  {
   "cell_type": "markdown",
   "metadata": {},
   "source": [
    "##### Lists Within Lists"
   ]
  },
  {
   "cell_type": "code",
   "execution_count": 64,
   "metadata": {},
   "outputs": [
    {
     "name": "stdout",
     "output_type": "stream",
     "text": [
      "[['Kevin De Bruyne', 'Fernandinho', 'Rodri', 'Phil Foden', 'Joao Cancelo'], ['Sadio Mane', 'Mo Salah'], ['Vinicius Junior', 'Karim Benzema', 'Luca Modric']]\n",
      "Karim Benzema\n",
      "[['Kevin De Bruyne', 'Fernandinho', 'Rodri', 'Phil Foden', 'Joao Cancelo'], ['Sadio Mane', 'Mo Salah'], ['Vinicius Junior', 'Karim Benzema', 'Luca Modric', 'Thibeau Courtois']]\n"
     ]
    }
   ],
   "source": [
    "players = [['Kevin De Bruyne', 'Fernandinho', 'Rodri', 'Phil Foden', 'Joao Cancelo'],\n",
    "           ['Sadio Mane', 'Mo Salah'],\n",
    "           ['Vinicius Junior', 'Karim Benzema', 'Luca Modric']]\n",
    "print(players)\n",
    "# how does indexing work in a list of lists\n",
    "# the same as it normally does!\n",
    "# let's say I want to access the string 'Karim Benzema'\n",
    "print(players[2][1])\n",
    "players[2].append('Thibeau Courtois')\n",
    "print(players)"
   ]
  },
  {
   "cell_type": "markdown",
   "metadata": {},
   "source": [
    "##### Looping Through Lists"
   ]
  },
  {
   "cell_type": "code",
   "execution_count": 69,
   "metadata": {},
   "outputs": [
    {
     "name": "stdout",
     "output_type": "stream",
     "text": [
      "this step has: Fennec Fox\n",
      "this step has: Babirusa\n",
      "this step has: Sea Otter\n",
      "this step has: Echidna\n"
     ]
    }
   ],
   "source": [
    "# for-in loop lets us directly loop through the values in a list\n",
    "animals = ['Fennec Fox', 'Babirusa', 'Sea Otter', 'Echidna']\n",
    "for value in animals:\n",
    "    print(f'this step has: {value}')"
   ]
  },
  {
   "cell_type": "code",
   "execution_count": 71,
   "metadata": {},
   "outputs": [
    {
     "name": "stdout",
     "output_type": "stream",
     "text": [
      "0 Fennec Fox\n",
      "1 Babirusa\n",
      "2 Sea Otter\n",
      "3 Echidna\n",
      "['Fennec Fox', 'Babirusa', 'River Otter', 'Echidna']\n"
     ]
    }
   ],
   "source": [
    "# index loop same as string index loop\n",
    "# allows us to modify individual values in the list\n",
    "for i in range(len(animals)):\n",
    "    print(i, animals[i])\n",
    "    if animals[i] == 'Sea Otter':\n",
    "        animals[i] = 'River Otter'\n",
    "        \n",
    "print(animals)"
   ]
  },
  {
   "cell_type": "markdown",
   "metadata": {},
   "source": [
    "## Exercise #1 <br>\n",
    "<p>Cube Number Test... Print out all cubed numbers up to the total value 1000. Meaning that if the cubed number is over 1000 break the loop.</p>"
   ]
  },
  {
   "cell_type": "code",
   "execution_count": 2,
   "metadata": {},
   "outputs": [
    {
     "name": "stdout",
     "output_type": "stream",
     "text": [
      "0\n",
      "1\n",
      "8\n",
      "27\n",
      "64\n",
      "125\n",
      "216\n",
      "343\n",
      "512\n",
      "729\n",
      "1000\n"
     ]
    }
   ],
   "source": [
    "number = 0\n",
    "while number**3 <= 1000:\n",
    "    print(number**3)\n",
    "    number += 1"
   ]
  },
  {
   "cell_type": "code",
   "execution_count": 4,
   "metadata": {},
   "outputs": [
    {
     "name": "stdout",
     "output_type": "stream",
     "text": [
      "0\n",
      "1\n",
      "8\n",
      "27\n",
      "64\n",
      "125\n",
      "216\n",
      "343\n",
      "512\n",
      "729\n",
      "1000\n"
     ]
    }
   ],
   "source": [
    "for i in range(11):\n",
    "    print(i**3)"
   ]
  },
  {
   "cell_type": "markdown",
   "metadata": {},
   "source": [
    "## Exercise #2 <br>\n",
    "<p>Get first prime numbers up to 100</p>"
   ]
  },
  {
   "cell_type": "code",
   "execution_count": 29,
   "metadata": {},
   "outputs": [
    {
     "name": "stdout",
     "output_type": "stream",
     "text": [
      "2\n",
      "3\n",
      "not prime\n",
      "5\n",
      "not prime\n",
      "7\n",
      "not prime\n",
      "not prime\n",
      "not prime\n",
      "11\n",
      "not prime\n",
      "13\n",
      "not prime\n",
      "not prime\n",
      "not prime\n",
      "17\n",
      "not prime\n",
      "19\n",
      "not prime\n",
      "not prime\n",
      "not prime\n",
      "23\n",
      "not prime\n",
      "not prime\n",
      "not prime\n",
      "not prime\n",
      "not prime\n",
      "29\n",
      "not prime\n",
      "31\n",
      "not prime\n",
      "not prime\n",
      "not prime\n",
      "not prime\n",
      "not prime\n",
      "37\n",
      "not prime\n",
      "not prime\n",
      "not prime\n",
      "41\n",
      "not prime\n",
      "43\n",
      "not prime\n",
      "not prime\n",
      "not prime\n",
      "47\n",
      "not prime\n",
      "not prime\n",
      "not prime\n",
      "not prime\n",
      "not prime\n",
      "53\n",
      "not prime\n",
      "not prime\n",
      "not prime\n",
      "not prime\n",
      "not prime\n",
      "59\n",
      "not prime\n",
      "61\n",
      "not prime\n",
      "not prime\n",
      "not prime\n",
      "not prime\n",
      "not prime\n",
      "67\n",
      "not prime\n",
      "not prime\n",
      "not prime\n",
      "71\n",
      "not prime\n",
      "73\n",
      "not prime\n",
      "not prime\n",
      "not prime\n",
      "not prime\n",
      "not prime\n",
      "79\n",
      "not prime\n",
      "not prime\n",
      "not prime\n",
      "83\n",
      "not prime\n",
      "not prime\n",
      "not prime\n",
      "not prime\n",
      "not prime\n",
      "89\n",
      "not prime\n",
      "not prime\n",
      "not prime\n",
      "not prime\n",
      "not prime\n",
      "not prime\n",
      "not prime\n",
      "97\n",
      "not prime\n",
      "not prime\n"
     ]
    }
   ],
   "source": [
    "# HINT::\n",
    "# An else after an if runs if the if didn’t\n",
    "# An else after a for runs if the for didn’t break\n",
    "\n",
    "# try to divide to this number by everything less than or equal to the square root\n",
    "    # if it divides evenly, not prime\n",
    "    \n",
    "# how to get the square root (easy)\n",
    "# set up my prime test for a single value\n",
    "# put that prime test in a loop for all values up to 100\n",
    "for number in range(2, 100):\n",
    "    flag = True # flag variable for tracking prime -> assume prime to start\n",
    "    # write a loop up to nearest smaller integer to our sqrt\n",
    "    for i in range(2, int(number**.5)+1):\n",
    "        if number%i == 0:\n",
    "            print('not prime')\n",
    "            flag = False # set the flag to false when we discover the number is not prime\n",
    "            break\n",
    "    # check our flag to determine if this is a prime or not\n",
    "    if flag:\n",
    "        print(number)"
   ]
  },
  {
   "cell_type": "markdown",
   "metadata": {},
   "source": [
    "# Exercise 3 <br>\n",
    "<p>Take in a users input for their age, if they are younger than 18 print kids, if they're 18 to 65 print adults, else print seniors</p>"
   ]
  },
  {
   "cell_type": "code",
   "execution_count": 13,
   "metadata": {},
   "outputs": [
    {
     "name": "stdout",
     "output_type": "stream",
     "text": [
      "What is your age? fifty\n",
      "You didnt give me a number for your age.\n"
     ]
    }
   ],
   "source": [
    "age = input('What is your age? ')\n",
    "try:\n",
    "    age = int(age) # if non-numerical input is given, this line produces an error\n",
    "    if age < 18:\n",
    "        print('kid')\n",
    "    elif age < 65:\n",
    "        print('adult')\n",
    "    else:\n",
    "        print('senior')\n",
    "except:\n",
    "    print('You didnt give me a number for your age.')"
   ]
  },
  {
   "cell_type": "code",
   "execution_count": null,
   "metadata": {},
   "outputs": [],
   "source": []
  }
 ],
 "metadata": {
  "kernelspec": {
   "display_name": "Python 3 (ipykernel)",
   "language": "python",
   "name": "python3"
  },
  "language_info": {
   "codemirror_mode": {
    "name": "ipython",
    "version": 3
   },
   "file_extension": ".py",
   "mimetype": "text/x-python",
   "name": "python",
   "nbconvert_exporter": "python",
   "pygments_lexer": "ipython3",
   "version": "3.9.7"
  }
 },
 "nbformat": 4,
 "nbformat_minor": 2
}
