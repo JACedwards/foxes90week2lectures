{
 "cells": [
  {
   "cell_type": "markdown",
   "metadata": {},
   "source": [
    "# Functions, Scoping, Data Collections 1 & List Comprehensions"
   ]
  },
  {
   "cell_type": "markdown",
   "metadata": {},
   "source": [
    "## Tasks Today:\n",
    "\n",
    "<i>Monday Additions (or, and ... if statements)</i>\n",
    "\n",
    "1) String Manipulation <br>\n",
    " &nbsp;&nbsp;&nbsp;&nbsp; a) strip() <br>\n",
    " &nbsp;&nbsp;&nbsp;&nbsp; b) title() <br>\n",
    "2) Working With Lists <br>\n",
    " &nbsp;&nbsp;&nbsp;&nbsp; a) min() <br>\n",
    " &nbsp;&nbsp;&nbsp;&nbsp; b) max() <br>\n",
    " &nbsp;&nbsp;&nbsp;&nbsp; c) sum() <br>\n",
    " &nbsp;&nbsp;&nbsp;&nbsp; d) sort() <br>\n",
    " &nbsp;&nbsp;&nbsp;&nbsp; e) Copying a List <br>\n",
    " &nbsp;&nbsp;&nbsp;&nbsp; f) 'in' keyword <br>\n",
    " &nbsp;&nbsp;&nbsp;&nbsp; g) 'not in' keyword <br>\n",
    " &nbsp;&nbsp;&nbsp;&nbsp; i) Checking an Empty List <br>\n",
    " &nbsp;&nbsp;&nbsp;&nbsp; j) Removing Instances with a Loop <br>\n",
    "3) List Comprehensions <br>\n",
    "4) Tuples <br>\n",
    " &nbsp;&nbsp;&nbsp;&nbsp; a) sorted() <br>\n",
    "5) Functions <br>\n",
    " &nbsp;&nbsp;&nbsp;&nbsp; a) User-Defined vs. Built-In Functions <br>\n",
    " &nbsp;&nbsp;&nbsp;&nbsp; b) Accepting Parameters <br>\n",
    " &nbsp;&nbsp;&nbsp;&nbsp; c) Default Parameters <br>\n",
    " &nbsp;&nbsp;&nbsp;&nbsp; d) Making an Argument Optional <br>\n",
    " &nbsp;&nbsp;&nbsp;&nbsp; e) Keyword Arguments <br>\n",
    " &nbsp;&nbsp;&nbsp;&nbsp; f) Returning Values <br>\n",
    " &nbsp;&nbsp;&nbsp;&nbsp; g) *args <br>\n",
    " &nbsp;&nbsp;&nbsp;&nbsp; h) Docstring <br>\n",
    " &nbsp;&nbsp;&nbsp;&nbsp; i) Using a User Function in a Loop <br>\n",
    "6) Scope"
   ]
  },
  {
   "cell_type": "markdown",
   "metadata": {},
   "source": [
    "### String Manipulation"
   ]
  },
  {
   "cell_type": "code",
   "execution_count": null,
   "metadata": {},
   "outputs": [],
   "source": [
    "# any time we're manipulating strings- you must remember that strings are immutable\n",
    "# we cannot directly change a string\n",
    "# any time you're changing a string you're actually creating a new string\n",
    "# so, if you want to in effect 'change' a string, you must redefine that string's variable as the new string\n",
    "# in other simpler terms- all string operations are out of place (meaning they don't modify the original)"
   ]
  },
  {
   "cell_type": "markdown",
   "metadata": {},
   "source": [
    "##### .lstrip()"
   ]
  },
  {
   "cell_type": "code",
   "execution_count": 5,
   "metadata": {},
   "outputs": [
    {
     "name": "stdout",
     "output_type": "stream",
     "text": [
      "           Fennec Fox  \n",
      "Fennec Fox  \n"
     ]
    }
   ],
   "source": [
    "# string.lstrip()\n",
    "my_string = '           Fennec Fox  '\n",
    "print(my_string)\n",
    "# .lstrip() like all string methods creates and returns a new string\n",
    "my_string = my_string.lstrip()\n",
    "print(my_string)"
   ]
  },
  {
   "cell_type": "markdown",
   "metadata": {},
   "source": [
    "##### .rstrip()"
   ]
  },
  {
   "cell_type": "code",
   "execution_count": 13,
   "metadata": {},
   "outputs": [
    {
     "name": "stdout",
     "output_type": "stream",
     "text": [
      "           Fennec Fox\t\n",
      "   \n"
     ]
    },
    {
     "data": {
      "text/plain": [
       "'           Fennec Fox'"
      ]
     },
     "execution_count": 13,
     "metadata": {},
     "output_type": "execute_result"
    }
   ],
   "source": [
    "# string.rstrip() - lstrip, rstrip, and strip also remove tabs and newlines\n",
    "my_string = '           Fennec Fox\\t\\n   '\n",
    "print(my_string)\n",
    "my_string = my_string.rstrip()\n",
    "my_string"
   ]
  },
  {
   "cell_type": "markdown",
   "metadata": {},
   "source": [
    "##### .strip()"
   ]
  },
  {
   "cell_type": "code",
   "execution_count": 10,
   "metadata": {},
   "outputs": [
    {
     "data": {
      "text/plain": [
       "'Fennec Fox'"
      ]
     },
     "execution_count": 10,
     "metadata": {},
     "output_type": "execute_result"
    }
   ],
   "source": [
    "# string.strip() - combo of lstrip and rstrip\n",
    "my_string = '           Fennec Fox  \\t\\n'\n",
    "my_string = my_string.strip()\n",
    "my_string"
   ]
  },
  {
   "cell_type": "markdown",
   "metadata": {},
   "source": [
    "##### .title()"
   ]
  },
  {
   "cell_type": "code",
   "execution_count": 11,
   "metadata": {},
   "outputs": [
    {
     "name": "stdout",
     "output_type": "stream",
     "text": [
      "The Fennec Fox Is The Most Social Species Of Canid.\n"
     ]
    }
   ],
   "source": [
    "# string.title() - just like .lower(), .upper()\n",
    "# capitalize the first letter in every word in a string\n",
    "my_string = 'the fennec fox is the most social species of canid.'\n",
    "my_string = my_string.title()\n",
    "print(my_string)\n"
   ]
  },
  {
   "cell_type": "markdown",
   "metadata": {},
   "source": [
    "### String Exercise <br>\n",
    "<p>Strip all white space and capitalize every name in the list given</p>"
   ]
  },
  {
   "cell_type": "code",
   "execution_count": 17,
   "metadata": {},
   "outputs": [
    {
     "name": "stdout",
     "output_type": "stream",
     "text": [
      "['    coNNor', 'max', ' EVan ', 'JORDAN']\n",
      "['Connor', 'Max', 'Evan', 'Jordan']\n"
     ]
    }
   ],
   "source": [
    "names = ['    coNNor', 'max', ' EVan ', 'JORDAN']\n",
    "# HINT: You will need to use a for loop for iteration\n",
    "# ['Connor', 'Max', 'Evan', 'Jordan']\n",
    "fixedNames = []\n",
    "for name in names:\n",
    "    name = name.title()\n",
    "    name = name.strip()\n",
    "    fixedNames.append(name)\n",
    "    \n",
    "print(names)\n",
    "print(fixedNames)\n"
   ]
  },
  {
   "cell_type": "code",
   "execution_count": 23,
   "metadata": {},
   "outputs": [
    {
     "name": "stdout",
     "output_type": "stream",
     "text": [
      "0 Connor\n",
      "1 Max\n",
      "2 Evan\n",
      "3 Jordan\n",
      "['Connor', 'Max', 'Evan', 'Jordan']\n"
     ]
    }
   ],
   "source": [
    "# what if we wanted to modify the original names list\n",
    "# if you want to modify the values at each index of a list\n",
    "# you must loop through the indexes rather than a direct for-in loop\n",
    "for i in range(len(names)):\n",
    "    print(i, names[i])\n",
    "    names[i] = names[i].strip().title()\n",
    "print(names)"
   ]
  },
  {
   "cell_type": "markdown",
   "metadata": {},
   "source": [
    "### Working With Lists"
   ]
  },
  {
   "cell_type": "markdown",
   "metadata": {},
   "source": [
    "##### min()"
   ]
  },
  {
   "cell_type": "code",
   "execution_count": 27,
   "metadata": {},
   "outputs": [
    {
     "name": "stdout",
     "output_type": "stream",
     "text": [
      "a\n",
      "0.1\n"
     ]
    },
    {
     "ename": "TypeError",
     "evalue": "'<' not supported between instances of 'float' and 'str'",
     "output_type": "error",
     "traceback": [
      "\u001b[1;31m---------------------------------------------------------------------------\u001b[0m",
      "\u001b[1;31mTypeError\u001b[0m                                 Traceback (most recent call last)",
      "\u001b[1;32m<ipython-input-27-216338538346>\u001b[0m in \u001b[0;36m<module>\u001b[1;34m\u001b[0m\n\u001b[0;32m      7\u001b[0m \u001b[0mprint\u001b[0m\u001b[1;33m(\u001b[0m\u001b[0mmin\u001b[0m\u001b[1;33m(\u001b[0m\u001b[0mlist_a\u001b[0m\u001b[1;33m)\u001b[0m\u001b[1;33m)\u001b[0m\u001b[1;33m\u001b[0m\u001b[1;33m\u001b[0m\u001b[0m\n\u001b[0;32m      8\u001b[0m \u001b[0mprint\u001b[0m\u001b[1;33m(\u001b[0m\u001b[0mmin\u001b[0m\u001b[1;33m(\u001b[0m\u001b[0mlist_1\u001b[0m\u001b[1;33m)\u001b[0m\u001b[1;33m)\u001b[0m\u001b[1;33m\u001b[0m\u001b[1;33m\u001b[0m\u001b[0m\n\u001b[1;32m----> 9\u001b[1;33m \u001b[0mprint\u001b[0m\u001b[1;33m(\u001b[0m\u001b[0mmin\u001b[0m\u001b[1;33m(\u001b[0m\u001b[0mlist_mix\u001b[0m\u001b[1;33m)\u001b[0m\u001b[1;33m)\u001b[0m\u001b[1;33m\u001b[0m\u001b[1;33m\u001b[0m\u001b[0m\n\u001b[0m",
      "\u001b[1;31mTypeError\u001b[0m: '<' not supported between instances of 'float' and 'str'"
     ]
    }
   ],
   "source": [
    "# min(list)\n",
    "# min and max run >/< conditionals on the items in your list\n",
    "    # therefore, your list must contain only numerical data or only strings in order for min and max to work\n",
    "list_a = ['a', 'b', 'c']\n",
    "list_1 = [0.1, 2, 3]\n",
    "list_mix = ['a', 1.5, 'b']\n",
    "print(min(list_a))\n",
    "print(min(list_1))\n",
    "print(min(list_mix))\n"
   ]
  },
  {
   "cell_type": "code",
   "execution_count": 31,
   "metadata": {},
   "outputs": [
    {
     "name": "stdout",
     "output_type": "stream",
     "text": [
      "[54, 23, 12, 3.22, 589, 23.2]\n",
      "54\n",
      "3.22\n"
     ]
    }
   ],
   "source": [
    "# the code run by min/max:\n",
    "test_list = [54, 23, 12, 3.22, 589, 23.2]\n",
    "print(test_list)\n",
    "current_min = test_list[0]\n",
    "print(current_min)\n",
    "for number in test_list:\n",
    "    if number < current_min:\n",
    "        current_min = number\n",
    "print(current_min)"
   ]
  },
  {
   "cell_type": "markdown",
   "metadata": {},
   "source": [
    "##### max()"
   ]
  },
  {
   "cell_type": "code",
   "execution_count": 32,
   "metadata": {},
   "outputs": [
    {
     "name": "stdout",
     "output_type": "stream",
     "text": [
      "c\n",
      "3\n"
     ]
    },
    {
     "ename": "TypeError",
     "evalue": "'>' not supported between instances of 'float' and 'str'",
     "output_type": "error",
     "traceback": [
      "\u001b[1;31m---------------------------------------------------------------------------\u001b[0m",
      "\u001b[1;31mTypeError\u001b[0m                                 Traceback (most recent call last)",
      "\u001b[1;32m<ipython-input-32-a13fe551928f>\u001b[0m in \u001b[0;36m<module>\u001b[1;34m\u001b[0m\n\u001b[0;32m      5\u001b[0m \u001b[0mprint\u001b[0m\u001b[1;33m(\u001b[0m\u001b[0mmax\u001b[0m\u001b[1;33m(\u001b[0m\u001b[0mlist_a\u001b[0m\u001b[1;33m)\u001b[0m\u001b[1;33m)\u001b[0m\u001b[1;33m\u001b[0m\u001b[1;33m\u001b[0m\u001b[0m\n\u001b[0;32m      6\u001b[0m \u001b[0mprint\u001b[0m\u001b[1;33m(\u001b[0m\u001b[0mmax\u001b[0m\u001b[1;33m(\u001b[0m\u001b[0mlist_1\u001b[0m\u001b[1;33m)\u001b[0m\u001b[1;33m)\u001b[0m\u001b[1;33m\u001b[0m\u001b[1;33m\u001b[0m\u001b[0m\n\u001b[1;32m----> 7\u001b[1;33m \u001b[0mprint\u001b[0m\u001b[1;33m(\u001b[0m\u001b[0mmax\u001b[0m\u001b[1;33m(\u001b[0m\u001b[0mlist_mix\u001b[0m\u001b[1;33m)\u001b[0m\u001b[1;33m)\u001b[0m\u001b[1;33m\u001b[0m\u001b[1;33m\u001b[0m\u001b[0m\n\u001b[0m",
      "\u001b[1;31mTypeError\u001b[0m: '>' not supported between instances of 'float' and 'str'"
     ]
    }
   ],
   "source": [
    "# max(list)\n",
    "list_a = ['a', 'b', 'c']\n",
    "list_1 = [0.1, 2, 3]\n",
    "list_mix = ['a', 1.5, 'b']\n",
    "print(max(list_a))\n",
    "print(max(list_1))\n",
    "print(max(list_mix))\n"
   ]
  },
  {
   "cell_type": "markdown",
   "metadata": {},
   "source": [
    "##### sum()"
   ]
  },
  {
   "cell_type": "code",
   "execution_count": 36,
   "metadata": {},
   "outputs": [
    {
     "name": "stdout",
     "output_type": "stream",
     "text": [
      "5.1\n",
      "5.1\n"
     ]
    }
   ],
   "source": [
    "# sum(list)\n",
    "print(sum(list_1))\n",
    "# simple code\n",
    "answer = 0\n",
    "for number in list_1:\n",
    "    answer += number\n",
    "print(answer)"
   ]
  },
  {
   "cell_type": "markdown",
   "metadata": {},
   "source": [
    "##### sorted()"
   ]
  },
  {
   "cell_type": "code",
   "execution_count": 51,
   "metadata": {},
   "outputs": [
    {
     "name": "stdout",
     "output_type": "stream",
     "text": [
      "['Fennec Fox', 'Galapagos Tortoise', 'Elephant', 'Pizzly Bear', 'Echidna', 'Beluga Whale', 'Polar Bear']\n",
      "['Polar Bear', 'Pizzly Bear', 'Galapagos Tortoise', 'Fennec Fox', 'Elephant', 'Echidna', 'Beluga Whale']\n"
     ]
    }
   ],
   "source": [
    "# sorted(list) - out of place - does not modify the original\n",
    "# creates a sorted copy\n",
    "# works on lists of all strings or all numerical data, not lists of multiple datatypes\n",
    "animals = ['Fennec Fox', 'Galapagos Tortoise', 'Elephant', 'Pizzly Bear', 'Echidna', 'Beluga Whale', 'Polar Bear']\n",
    "sorted_animals = sorted(animals, reverse=True)\n",
    "print(animals)\n",
    "print(sorted_animals)"
   ]
  },
  {
   "cell_type": "markdown",
   "metadata": {},
   "source": [
    "##### .sort() <br>\n",
    "<p>Difference between sort and sorted, is that sorted doesn't change original list it returns a copy, while .sort changes the original list</p>"
   ]
  },
  {
   "cell_type": "code",
   "execution_count": 46,
   "metadata": {},
   "outputs": [
    {
     "name": "stdout",
     "output_type": "stream",
     "text": [
      "['Fennec Fox', 'Galapagos Tortoise', 'Echidna', 'Beluga Whale', 'Polar Bear']\n",
      "None\n",
      "['Beluga Whale', 'Echidna', 'Fennec Fox', 'Galapagos Tortoise', 'Polar Bear']\n"
     ]
    }
   ],
   "source": [
    "# list.sort()\n",
    "animals = ['Fennec Fox', 'Galapagos Tortoise', 'Echidna', 'Beluga Whale', 'Polar Bear']\n",
    "print(animals)\n",
    "returned_value = animals.sort()\n",
    "print(returned_value)\n",
    "print(animals)\n",
    "\n",
    "# use sorted when you don't want to alter original list, use .sort() when you want to alter original list"
   ]
  },
  {
   "cell_type": "markdown",
   "metadata": {},
   "source": [
    "##### Copying a List"
   ]
  },
  {
   "cell_type": "code",
   "execution_count": 56,
   "metadata": {},
   "outputs": [
    {
     "name": "stdout",
     "output_type": "stream",
     "text": [
      "['Fennec Fox', 'Galapagos Tortoise', 'Elephant', 'Pizzly Bear', 'Echidna', 'Beluga Whale', 'Polar Bear'] 0x13d65e6e680\n",
      "['Fennec Fox', 'Galapagos Tortoise', 'Elephant', 'Pizzly Bear', 'Echidna', 'Beluga Whale', 'Polar Bear'] 0x13d65c9b080\n"
     ]
    }
   ],
   "source": [
    "# [:] copies a list, doesn't alter original\n",
    "animals = ['Fennec Fox', 'Galapagos Tortoise', 'Elephant', 'Pizzly Bear', 'Echidna', 'Beluga Whale', 'Polar Bear']\n",
    "animals2 = animals[:]\n",
    "print(animals, hex(id(animals)))\n",
    "print(animals2, hex(id(animals2)))"
   ]
  },
  {
   "cell_type": "markdown",
   "metadata": {},
   "source": [
    "#### List Slicing"
   ]
  },
  {
   "cell_type": "code",
   "execution_count": 60,
   "metadata": {},
   "outputs": [
    {
     "name": "stdout",
     "output_type": "stream",
     "text": [
      "['Galapagos Tortoise', 'Elephant', 'Pizzly Bear', 'Echidna', 'Beluga Whale']\n",
      "['Elephant', 'Beluga Whale']\n",
      "['Polar Bear', 'Beluga Whale', 'Echidna', 'Pizzly Bear', 'Elephant', 'Galapagos Tortoise', 'Fennec Fox']\n"
     ]
    }
   ],
   "source": [
    "# we can copy a portion (or all) of a list\n",
    "# list slicing is based on index numbers and has parameters similar to the range function: start, stop, and step\n",
    "# name_of_list[<start>:<stop>:<step>]\n",
    "# if we dont include start or stop, start defaults to the start of the list\n",
    "# and stop defaults to the end of the list\n",
    "# step defaults to 1\n",
    "animals = ['Fennec Fox', 'Galapagos Tortoise', 'Elephant', 'Pizzly Bear', 'Echidna', 'Beluga Whale', 'Polar Bear']\n",
    "print(animals[1:6])\n",
    "print(animals[2:6:3])\n",
    "print(animals[::-1]) # reversed copy of the list"
   ]
  },
  {
   "cell_type": "code",
   "execution_count": 65,
   "metadata": {},
   "outputs": [
    {
     "name": "stdout",
     "output_type": "stream",
     "text": [
      "Fox\n",
      "xFcne\n"
     ]
    }
   ],
   "source": [
    "# string slicing also exists\n",
    "# strings have the same index system as lists\n",
    "# so strings can be sliced just like lists\n",
    "a_str = 'Fennec Fox'\n",
    "print(a_str[7:])\n",
    "print(a_str[-1::-2])"
   ]
  },
  {
   "cell_type": "markdown",
   "metadata": {},
   "source": [
    "##### 'in' keyword"
   ]
  },
  {
   "cell_type": "code",
   "execution_count": 67,
   "metadata": {},
   "outputs": [],
   "source": [
    "# membership test -> is this thing a part of the larger thing\n",
    "animals = ['Fennec Fox', 'Galapagos Tortoise', 'Elephant', 'Pizzly Bear', 'Echidna', 'Beluga Whale', 'Polar Bear']\n",
    "\n",
    "if 'Fennec Fox' in animals:\n",
    "    print('This is a good list of animals.')"
   ]
  },
  {
   "cell_type": "code",
   "execution_count": 69,
   "metadata": {},
   "outputs": [
    {
     "name": "stdout",
     "output_type": "stream",
     "text": [
      "TRUE\n"
     ]
    }
   ],
   "source": [
    "# code for a list membership test:\n",
    "value = 'Fennec Fox'\n",
    "for animal in animals:\n",
    "    if value == animal:\n",
    "        print('TRUE')\n",
    "        break\n",
    "else:\n",
    "    print('FALSE')"
   ]
  },
  {
   "cell_type": "markdown",
   "metadata": {},
   "source": [
    "##### 'not in' keyword"
   ]
  },
  {
   "cell_type": "code",
   "execution_count": 70,
   "metadata": {},
   "outputs": [
    {
     "name": "stdout",
     "output_type": "stream",
     "text": [
      "Missing a good animal there, eh?\n"
     ]
    }
   ],
   "source": [
    "# inverse membership test\n",
    "if 'Fossa' not in animals:\n",
    "    print('Missing a good animal there, eh?')"
   ]
  },
  {
   "cell_type": "markdown",
   "metadata": {},
   "source": [
    "##### Checking an Empty List"
   ]
  },
  {
   "cell_type": "code",
   "execution_count": 74,
   "metadata": {},
   "outputs": [
    {
     "name": "stdout",
     "output_type": "stream",
     "text": [
      "[] <class 'list'>\n",
      "List is empty.\n",
      "List is empty.\n",
      "Not empty.\n"
     ]
    }
   ],
   "source": [
    "# if l_1: or if l_1 == []\n",
    "empty_l = []\n",
    "print(empty_l, type(empty_l))\n",
    "if empty_l == []:\n",
    "    # true if the list is empty\n",
    "    print('List is empty.')\n",
    "if not empty_l:\n",
    "    # true if the list is empty\n",
    "    print('List is empty.')\n",
    "    \n",
    "# the inverse -> returning true if the list is not empty\n",
    "# is the easiest of all\n",
    "# if <name_of_list>:\n",
    "if animals:\n",
    "    print('Not empty.')"
   ]
  },
  {
   "cell_type": "markdown",
   "metadata": {},
   "source": [
    "##### Removing Instances with a Loop"
   ]
  },
  {
   "cell_type": "code",
   "execution_count": 79,
   "metadata": {},
   "outputs": [
    {
     "name": "stdout",
     "output_type": "stream",
     "text": [
      "['Fennec Fox', 'Brown Bear', 'Orca', 'Koala', 'Dingo', 'Tiger', 'Fossa', 'Fossa']\n"
     ]
    }
   ],
   "source": [
    "animals = ['Fossa', 'Fennec Fox', 'Brown Bear', 'Fossa', 'Fossa', 'Orca', 'Koala', 'Dingo', 'Tiger', 'Fossa', 'Fossa']\n",
    "# I want to remove all instances of Fossa from this list\n",
    "\n",
    "# this approach doesn't work -> adjacent repeats get skipped\n",
    "for animal in animals:\n",
    "    if animal == 'Fossa':\n",
    "        animals.remove('Fossa')\n",
    "\n",
    "print(animals)"
   ]
  },
  {
   "cell_type": "code",
   "execution_count": 80,
   "metadata": {},
   "outputs": [
    {
     "name": "stdout",
     "output_type": "stream",
     "text": [
      "['Fennec Fox', 'Brown Bear', 'Orca', 'Koala', 'Dingo', 'Tiger']\n"
     ]
    }
   ],
   "source": [
    "animals = ['Fossa', 'Fennec Fox', 'Brown Bear', 'Fossa', 'Fossa', 'Orca', 'Koala', 'Dingo', 'Tiger', 'Fossa', 'Fossa']\n",
    "\n",
    "while 'Fossa' in animals:\n",
    "    animals.remove('Fossa')\n",
    "\n",
    "print(animals)"
   ]
  },
  {
   "cell_type": "markdown",
   "metadata": {},
   "source": [
    "### List Exercise <br>\n",
    "<p>Remove all duplicates<br><b>Extra: Create a program that will remove any duplicates from a given list</b></p>"
   ]
  },
  {
   "cell_type": "code",
   "execution_count": 82,
   "metadata": {},
   "outputs": [
    {
     "name": "stdout",
     "output_type": "stream",
     "text": [
      "['connor', 'bob', 'evan', 'max', 2, 3, 4, 'kevin']\n"
     ]
    }
   ],
   "source": [
    "names = ['connor', 'connor', 'bob', 'connor', 'evan', 'max', 'evan', 2, 2, 2, 3, 3, 4, 'bob', 'kevin']\n",
    "# Hint 1: You will need an append\n",
    "# Hint 2: Using an empty list will make life easier\n",
    "new_names = []\n",
    "for name in names:\n",
    "    if name not in new_names:\n",
    "        # add to the new list if the name is not in the new list\n",
    "        new_names.append(name)\n",
    "print(new_names)\n",
    "\n",
    "# An extra challenge if you have time to experiment: do this in-place (aka modifying the original list)\n",
    "    # Doing this with the aid of a second list/set is doable\n",
    "    # Doing this using no other data structure is very challenging but seems doable"
   ]
  },
  {
   "cell_type": "code",
   "execution_count": 107,
   "metadata": {},
   "outputs": [
    {
     "name": "stdout",
     "output_type": "stream",
     "text": [
      "['connor', 'connor', 'bob', 'connor', 'evan', 'max', 'evan', 2, 2, 2, 3, 3, 4, 'bob', 'kevin']\n",
      "[2, 3, 4, 'bob', 'connor', 'evan', 'kevin', 'max']\n"
     ]
    }
   ],
   "source": [
    "# Taking advantage of a data structure we haven't yet discussed: the set\n",
    "# A core attribute of a set is that a set cannot contain duplicates\n",
    "# So, one way of removing all duplicates from a list is to convert that list to a set, then back to a list\n",
    "# this is the most common approach you'll see as it is long-term the most efficient approach\n",
    "names = ['connor', 'connor', 'bob', 'connor', 'evan', 'max', 'evan', 2, 2, 2, 3, 3, 4, 'bob', 'kevin']\n",
    "no_dupe_names = list(set(names))\n",
    "print(names)\n",
    "print(no_dupe_names)\n",
    "# You'll notice that the new list has a different order.... this is due to sets having no order"
   ]
  },
  {
   "cell_type": "markdown",
   "metadata": {},
   "source": [
    "### List Comprehensions <br>\n",
    "<p>Creating a quickly generated list to work with<br>*result*  = [*transform*    *iteration*         *filter*     ]</p>"
   ]
  },
  {
   "cell_type": "markdown",
   "metadata": {},
   "source": [
    "##### In a list comprehension we have a few pieces:\n",
    "1. The first is the counter/ variable - IN this the variable is x\n",
    "2. then we have a transform for the variable\n",
    "3. The finale part of a list comp is called the condition\n",
    "\n",
    "```python\n",
    "    [transform, variable, condition]\n",
    "```"
   ]
  },
  {
   "cell_type": "code",
   "execution_count": 5,
   "metadata": {},
   "outputs": [
    {
     "name": "stdout",
     "output_type": "stream",
     "text": [
      "['0!', '2!', '4!', '6!', '8!', '10!', '12!', '14!', '16!', '18!']\n",
      "['0!', '2!', '4!', '6!', '8!', '10!', '12!', '14!', '16!', '18!']\n"
     ]
    }
   ],
   "source": [
    "# number comprehension\n",
    "# take a range and make a list of all the even numbers in that range\n",
    "# With a regular for loop\n",
    "evens = []\n",
    "for n in range(20):\n",
    "    if n%2 == 0:\n",
    "        evens.append(str(n)+'!')\n",
    "print(evens)\n",
    "\n",
    "# IN a list comprehension we have a few pieces:\n",
    "# The first a transform for the variable \n",
    "# then the counter/ variable - IN this the variable is n\n",
    "# The finale part of a list comp is called the condition\n",
    "#[transform, variable, condition]\n",
    "\n",
    "evens = [str(n)+'!' for n in range(20) if n%2 == 0]\n",
    "print(evens)\n"
   ]
  },
  {
   "cell_type": "markdown",
   "metadata": {},
   "source": [
    "There are a few benefits to using List comprehensions. The most obvious would be that we now have shorter code to work with instead of using 3+ lines of code in the for loop variant.\n",
    "\n",
    "Another is an added benefit to memory usage. Since the list's memory is allocated first before adding elements to it, we don't have to resize the list once we add elements to it.\n",
    "\n",
    "Lastly, list comprehensions are considered the \"pythonic\" way to write code by the PEP8 standards (Python Style Guide)"
   ]
  },
  {
   "cell_type": "code",
   "execution_count": 7,
   "metadata": {},
   "outputs": [
    {
     "name": "stdout",
     "output_type": "stream",
     "text": [
      "[0, 1, 4, 9, 16, 25, 36, 49, 64, 81, 100, 121, 144, 169, 196, 225, 256, 289, 324, 361]\n"
     ]
    }
   ],
   "source": [
    "# square number comprehension\n",
    "squares = [x**2 for x in range(20)]\n",
    "print(squares)"
   ]
  },
  {
   "cell_type": "code",
   "execution_count": 18,
   "metadata": {},
   "outputs": [
    {
     "name": "stdout",
     "output_type": "stream",
     "text": [
      "['Connor', 'Max', 'Evan', 'Jordan']\n"
     ]
    }
   ],
   "source": [
    "# string comprehension\n",
    "names = ['    coNNor', 'max', ' EVan ', 'JORDAN']\n",
    "\n",
    "names2 = [x.title().strip() for x in names]\n",
    "\n",
    "print(names2)\n"
   ]
  },
  {
   "cell_type": "code",
   "execution_count": 17,
   "metadata": {},
   "outputs": [
    {
     "name": "stdout",
     "output_type": "stream",
     "text": [
      "['D', 'a', 'v', 'e']\n"
     ]
    }
   ],
   "source": [
    "# Operation chaining -> we're combining operations with compatible outputs and inputs\n",
    "name = '\\t\\tdave      ' # string\n",
    "# title() accepts a string as input\n",
    "# .strip() also accepts a string as input\n",
    "# .title() returns a string\n",
    "list(name.title().strip().split()[0])\n",
    "\n",
    "# same thing written long form\n",
    "name = name.title()\n",
    "name = name.strip()\n",
    "name = name.split() # this is then a list\n",
    "name = name[0] # back to a string\n",
    "name = list(name) # back to a list\n",
    "print(name)"
   ]
  },
  {
   "cell_type": "markdown",
   "metadata": {},
   "source": [
    "### Common Conversions: Strings to Lists and Lists to Strings"
   ]
  },
  {
   "cell_type": "code",
   "execution_count": 93,
   "metadata": {},
   "outputs": [
    {
     "name": "stdout",
     "output_type": "stream",
     "text": [
      "Frank, Charlie, Dee, Dennis, Ronald MacDonald <class 'str'>\n",
      "Frak <class 'str'>\n"
     ]
    }
   ],
   "source": [
    "# list -> string\n",
    "# str.join(<list>)\n",
    "# separator.join(<list>)\n",
    "# the separator is what will go between the values from the list when they are joined into a single string\n",
    "names = ['Frank', 'Charlie', 'Dee', 'Dennis', 'Ronald MacDonald']\n",
    "\n",
    "sunny = ', '.join(names)\n",
    "print(sunny, type(sunny))\n",
    "\n",
    "# list of letters -> a word\n",
    "# ''.join(<list>)\n",
    "name = ['F', 'r', 'a', 'k']\n",
    "oops = ''.join(name)\n",
    "print(oops, type(oops))"
   ]
  },
  {
   "cell_type": "code",
   "execution_count": 101,
   "metadata": {},
   "outputs": [
    {
     "name": "stdout",
     "output_type": "stream",
     "text": [
      "['O', 'n', 'g', 'o']\n",
      "['Frank', 'Charlie', 'Dee', 'Dennis', 'Mac']\n"
     ]
    }
   ],
   "source": [
    "# string -> list\n",
    "# string -> list of characters in that string\n",
    "# list() typecasting function\n",
    "name = 'Ongo'\n",
    "art_collector = list(name)\n",
    "print(art_collector)\n",
    "\n",
    "# a string of multiple words -> list of words\n",
    "# <str>.split(<delimiter>)\n",
    "# delimiter defaults to any whitespace\n",
    "names = 'Frank, Charlie, Dee, Dennis, Mac'\n",
    "my_list = names.split(', ')\n",
    "print(my_list)"
   ]
  },
  {
   "cell_type": "markdown",
   "metadata": {},
   "source": [
    "### Tuples <br>\n",
    "<p><b>Defined as an immutable list</b></p><br>Seperated by commas using parenthesis"
   ]
  },
  {
   "cell_type": "code",
   "execution_count": 24,
   "metadata": {},
   "outputs": [
    {
     "name": "stdout",
     "output_type": "stream",
     "text": [
      "('Alex', 'Sven', 'Tyler', 'Donovan', 'Brandon', 'Kristen', 'Craig', 'Jose', 'Devante', 'Yasir', 'Nadia', 'Javie', 'Sam')\n",
      "Alex\n",
      "Sven\n",
      "Tyler\n",
      "Donovan\n",
      "Brandon\n",
      "Kristen\n",
      "Craig\n",
      "Jose\n",
      "Devante\n",
      "Yasir\n",
      "Nadia\n",
      "Javie\n",
      "Sam\n"
     ]
    }
   ],
   "source": [
    "# one of our four major data structures\n",
    "# an immutable list - aka a list that we cannot change after creating it\n",
    "\n",
    "# (value, value, value)\n",
    "# tuple()\n",
    "\n",
    "names = ('Alex', 'Sven', 'Tyler', 'Donovan', 'Brandon', 'Kristen', 'Craig', 'Jose', 'Devante', 'Yasir', 'Nadia', 'Javie', 'Sam')\n",
    "print(names)\n",
    "\n",
    "for name in names:\n",
    "    print(name)\n",
    "    \n",
    "# in terms of being ordered, iterable (can loop thru), and indexed\n",
    "    # a tuple is the exact same as a list\n",
    "# the only difference is we cant change it"
   ]
  },
  {
   "cell_type": "code",
   "execution_count": null,
   "metadata": {},
   "outputs": [],
   "source": [
    "# tuples are immutable so we cannot directly change them\n",
    "# in practice, however, we can convert to a list, change that list, then convert back to a tuple"
   ]
  },
  {
   "cell_type": "markdown",
   "metadata": {},
   "source": [
    "##### sorted()"
   ]
  },
  {
   "cell_type": "code",
   "execution_count": 30,
   "metadata": {},
   "outputs": [
    {
     "name": "stdout",
     "output_type": "stream",
     "text": [
      "('Alex', 'Sven', 'Tyler', 'Donovan', 'Brandon', 'Kristen', 'Craig', 'Jose', 'Devante', 'Yasir', 'Nadia', 'Javie', 'Sam')\n",
      "('Alex', 'Brandon', 'Craig', 'Devante', 'Donovan', 'Javie', 'Jose', 'Kristen', 'Nadia', 'Sam', 'Sven', 'Tyler', 'Yasir')\n"
     ]
    }
   ],
   "source": [
    "# sorted() always returns a list\n",
    "# but sorted can accept a tuple and will return a sorted list with the same elements as the original tuple\n",
    "print(names)\n",
    "names = tuple(sorted(names))\n",
    "print(names)"
   ]
  },
  {
   "cell_type": "markdown",
   "metadata": {},
   "source": [
    "##### Adding values to a Tuple"
   ]
  },
  {
   "cell_type": "code",
   "execution_count": 35,
   "metadata": {},
   "outputs": [
    {
     "name": "stdout",
     "output_type": "stream",
     "text": [
      "('Alex', 'Sven', 'Tyler', 'Donovan', 'Brandon', 'Kristen', 'Craig', 'Jose', 'Devante', 'Yasir', 'Nadia', 'Javie', 'Sam')\n",
      "['Alex', 'Sven', 'Tyler', 'Donovan', 'Brandon', 'Kristen', 'Craig', 'Jose', 'Devante', 'Yasir', 'Nadia', 'Javie', 'Sam']\n",
      "['Alex', 'Sven', 'Tyler', 'Donovan', 'Brandon', 'Kristen', 'Craig', 'Jose', 'Devante', 'Yasir', 'Nadia', 'Javie', 'Sam', 'New_Student']\n",
      "('Alex', 'Sven', 'Tyler', 'Donovan', 'Brandon', 'Kristen', 'Craig', 'Jose', 'Devante', 'Yasir', 'Nadia', 'Javie', 'Sam', 'New_Student')\n"
     ]
    }
   ],
   "source": [
    "# we can't add directly... either add the values when the tuple is defined (see above)\n",
    "# or... create a list version of your tuple\n",
    "    # append to the list\n",
    "    # then transform back to a tuple\n",
    "names = ('Alex', 'Sven', 'Tyler', 'Donovan', 'Brandon', 'Kristen', 'Craig', 'Jose', 'Devante', 'Yasir', 'Nadia', 'Javie', 'Sam')\n",
    "print(names)\n",
    "names = list(names)\n",
    "print(names)\n",
    "names.append('New_Student')\n",
    "print(names)\n",
    "names = tuple(names)\n",
    "print(names)"
   ]
  },
  {
   "cell_type": "code",
   "execution_count": 37,
   "metadata": {},
   "outputs": [
    {
     "name": "stdout",
     "output_type": "stream",
     "text": [
      "<generator object <genexpr> at 0x000001D1B8B40660>\n"
     ]
    }
   ],
   "source": [
    "# Tuple comprehension aren't a thing -> what you would think is a tuple comprehension actually creates a generator\n",
    "    # a generator is an iterable that doesn't have values until you loop through it\n",
    "    # the range() function is an example of a generator\n",
    "new_tuple = (x for x in range(10))\n",
    "print(new_tuple)"
   ]
  },
  {
   "cell_type": "markdown",
   "metadata": {},
   "source": [
    "## Functions"
   ]
  },
  {
   "cell_type": "markdown",
   "metadata": {},
   "source": [
    "##### User-Defined vs. Built-In Functions"
   ]
  },
  {
   "cell_type": "code",
   "execution_count": 38,
   "metadata": {},
   "outputs": [],
   "source": [
    "# everything from print() to .strip(), .title(), min(), max(), list(), str()\n",
    "    # is a function\n",
    "# any time you see the syntax some_name() where the parenthesis immediately follow the name, that is a function call\n",
    "# a function call is essentially taking a pre-defined process and running it at a certain point in your code\n",
    "\n",
    "# the only difference between a built-in function and a user-defined function\n",
    "# is that the function definition of a built-in is prewritten\n",
    "# and the function definition of a user-defined function must be written by the user\n",
    "# the function calls of a UDF or built-in are the exact same\n",
    "\n",
    "# just like the built-in definitions of functions like print() or max() don't do anything\n",
    "    # until the function is called\n",
    "# the definitions of user-defined functions that we write\n",
    "    # dont do anything until the function is called\n",
    "\n",
    "# function definition\n",
    "# def function_name():\n",
    "def hello_world():\n",
    "    hello = 'Hello'\n",
    "    thing = 'World'\n",
    "    print(f'{hello}, {thing}!')"
   ]
  },
  {
   "cell_type": "code",
   "execution_count": 40,
   "metadata": {},
   "outputs": [
    {
     "name": "stdout",
     "output_type": "stream",
     "text": [
      "Hello, World!\n",
      "Hello, World!\n",
      "Hello, World!\n",
      "Hello, World!\n",
      "Hello, World!\n",
      "Hello, World!\n",
      "Hello, World!\n"
     ]
    }
   ],
   "source": [
    "# run the process by calling the function\n",
    "hello_world()\n",
    "hello_world()\n",
    "hello_world()\n",
    "hello_world()\n",
    "hello_world()\n",
    "hello_world()\n",
    "hello_world()"
   ]
  },
  {
   "cell_type": "markdown",
   "metadata": {},
   "source": [
    "##### Accepting Parameters"
   ]
  },
  {
   "cell_type": "code",
   "execution_count": 45,
   "metadata": {},
   "outputs": [
    {
     "name": "stdout",
     "output_type": "stream",
     "text": [
      "Hello, Frankie the Fossa!\n",
      "Hello, DANNY DEVITO!\n",
      "Hello, 3.1415!\n"
     ]
    }
   ],
   "source": [
    "# what if I wanted to say hello to whatever thing was specified at the time of the function call?\n",
    "# thing should be a parameter of the hello_world function\n",
    "    # thing is being set up as the variable name that should exist for use inside of the function\n",
    "def hello_world(thing):\n",
    "    hello = 'Hello'\n",
    "    print(f'{hello}, {thing}!')\n",
    "    \n",
    "# so where does the value for thing come from?\n",
    "# you provide it in the function call\n",
    "hello_world('Frankie the Fossa')\n",
    "\n",
    "# that argument (or input or parameter) can be provided either as a literal value like on like 10\n",
    "# or as a variable\n",
    "person = 'Danny DeVito'\n",
    "person = str.upper(person) # commonly written as person.upper() but shown here to illustrate similarity to normal input\n",
    "hello_world(person)\n",
    "\n",
    "hello_world(3.1415)"
   ]
  },
  {
   "cell_type": "code",
   "execution_count": 51,
   "metadata": {},
   "outputs": [
    {
     "name": "stdout",
     "output_type": "stream",
     "text": [
      "374\n"
     ]
    }
   ],
   "source": [
    "# functions can have many or zero parameters\n",
    "def addition(a, b, c, e, f):\n",
    "    print(a + b + c + e + f)\n",
    "    \n",
    "addition(4, 5, 120, 32, 213)"
   ]
  },
  {
   "cell_type": "markdown",
   "metadata": {},
   "source": [
    "##### Default Parameters"
   ]
  },
  {
   "cell_type": "code",
   "execution_count": 49,
   "metadata": {},
   "outputs": [
    {
     "name": "stdout",
     "output_type": "stream",
     "text": [
      "This is a red 2022 Ferrari F1-75. The F1-75 has 0 doors and 4 wheels and is driven by Charles LeClerc.\n",
      "This is a red 2022 Ferrari F1-75. The F1-75 has 0 doors and 4 wheels and is driven by Carlos Sainz.\n",
      "This is a red 2022 Alfa Romeo idk. The idk has 2 doors and 4 wheels and is driven by Valtteri Bottas.\n"
     ]
    }
   ],
   "source": [
    "def makeCar(make, model, driver, year=2022, color='red', doors=0, wheels=4):\n",
    "    description = f'This is a {color} {year} {make} {model}. The {model} has {doors} doors and {wheels} wheels and is driven by {driver}.'\n",
    "    return description\n",
    "\n",
    "print(makeCar('Ferrari', 'F1-75', 'Charles LeClerc'))\n",
    "print(makeCar('Ferrari', 'F1-75', 'Carlos Sainz'))\n",
    "print(makeCar(model='idk', driver='Valtteri Bottas', wheels=4, doors=2, make='Alfa Romeo')) # using keyword arguments"
   ]
  },
  {
   "cell_type": "markdown",
   "metadata": {},
   "source": [
    "##### Making an Argument Optional"
   ]
  },
  {
   "cell_type": "code",
   "execution_count": 56,
   "metadata": {},
   "outputs": [
    {
     "name": "stdout",
     "output_type": "stream",
     "text": [
      "This is a Ayrton Senna McLaren MP4/4. The MP4/4 is driven by 1987.\n",
      "This is a 2025 Mercedes AMG10. The Mercedes team is looking for a driver.\n"
     ]
    }
   ],
   "source": [
    "# give an empty default value\n",
    "# set your default to None or an empty string\n",
    "    # or something that would have no effect on your function unless a value was provided\n",
    "    \n",
    "def makeCar(make, model, year=2022, driver=None):\n",
    "    if driver:\n",
    "        description = f'This is a {year} {make} {model}. The {model} is driven by {driver}.'\n",
    "    else:\n",
    "        description = f'This is a {year} {make} {model}. The {make} team is looking for a driver.'\n",
    "    return description\n",
    "\n",
    "print(makeCar('McLaren', 'MP4/4', 'Ayrton Senna', 1987))\n",
    "print(makeCar('Mercedes', 'AMG10', 2025))\n"
   ]
  },
  {
   "cell_type": "markdown",
   "metadata": {},
   "source": [
    "##### Keyword Arguments"
   ]
  },
  {
   "cell_type": "code",
   "execution_count": null,
   "metadata": {},
   "outputs": [],
   "source": [
    "# last_name='Max', first_name='Smith' in the function call\n",
    "\n",
    "# see above"
   ]
  },
  {
   "cell_type": "markdown",
   "metadata": {},
   "source": [
    "# Creating a start, stop, step function"
   ]
  },
  {
   "cell_type": "code",
   "execution_count": 72,
   "metadata": {},
   "outputs": [
    {
     "name": "stdout",
     "output_type": "stream",
     "text": [
      "0 5 10 15 20 25 30 35 40 45 50 55 60 65 70 75 80 85 90 95 "
     ]
    }
   ],
   "source": [
    "# we're gonna create our own version of the range() function\n",
    "# as input we should accept 1, 2, or 3 values\n",
    "# a start that defaults to 0\n",
    "# a stop that is required\n",
    "# and a step that defaults to 1\n",
    "\n",
    "# range(<start>, stop, <step>) # required follows a default -> that is hard\n",
    "# we'll start\n",
    "    # myRange(stop, start, step)\n",
    "    \n",
    "def myRange(stop, start=None, step=1):\n",
    "    if start:\n",
    "        # use multiple variable assignment to flip start and stop values\n",
    "        start, stop = stop, start\n",
    "    else:\n",
    "        start = 0\n",
    "        \n",
    "    while start < stop:\n",
    "        print(start, end=' ')\n",
    "        start = start + step\n",
    "        \n",
    "myRange(100, step=5)"
   ]
  },
  {
   "cell_type": "markdown",
   "metadata": {},
   "source": [
    "##### Returning Values"
   ]
  },
  {
   "cell_type": "code",
   "execution_count": 60,
   "metadata": {},
   "outputs": [
    {
     "name": "stdout",
     "output_type": "stream",
     "text": [
      "Hello, Danny DeVito!\n",
      "None\n",
      "<class 'str'>\n"
     ]
    }
   ],
   "source": [
    "# the output of a function is it's return value\n",
    "# a function can return nothing or it can return a large data structure/collection/object\n",
    "# it cannot return multiple separate things (that would make a generator)\n",
    "# the return value of a function is controlled by the presence or lack of a return statement\n",
    "\n",
    "# the hello_world() function has no return value, so the variable x here has value None\n",
    "x = hello_world('Danny DeVito')\n",
    "print(x)\n",
    "\n",
    "# same function but returns the greeting instead of printing it\n",
    "def hello_world_ret(thing):\n",
    "    hello = 'Hello, '\n",
    "    return f'{hello}{thing}!'\n",
    "\n",
    "y = hello_world_ret('Danny DeVito')\n",
    "print(type(y))"
   ]
  },
  {
   "cell_type": "code",
   "execution_count": 61,
   "metadata": {},
   "outputs": [],
   "source": [
    "# a common mistake:\n",
    "    # treating the return statement like a function call\n",
    "    # return(thing) - that's not proper - you dont need parenthesis on your return statement\n",
    "    \n",
    "# bad: return(thing)\n",
    "# good: return thing\n",
    "\n",
    "# if you include parenthesis on your return statement you may* inadvertently return a tuple\n",
    "    # *modern python will usually assume you didn't intend to return a tuple and fix the issue for you"
   ]
  },
  {
   "cell_type": "code",
   "execution_count": 63,
   "metadata": {},
   "outputs": [
    {
     "data": {
      "text/plain": [
       "'Hello, Frank Reynolds!'"
      ]
     },
     "execution_count": 63,
     "metadata": {},
     "output_type": "execute_result"
    }
   ],
   "source": [
    "# an important note on the return statement:\n",
    "    # the return statement will end your function\n",
    "        # regardless of any code that may come after the return statement\n",
    "    # if the return statement runs, the function ends\n",
    "    \n",
    "def hello_world2(thing):\n",
    "    hello = 'Hello, '\n",
    "    return f'{hello}{thing}!'\n",
    "    print('after the greeting')\n",
    "\n",
    "hello_world2('Frank Reynolds')"
   ]
  },
  {
   "cell_type": "code",
   "execution_count": 69,
   "metadata": {},
   "outputs": [],
   "source": [
    "# the return statement can be useful in terms of ending a loop/function/conditional structure early\n",
    "\n",
    "def which_group(age):\n",
    "    try:\n",
    "        age = int(age) # if non-numerical input is given, this line produces an error\n",
    "        if age < 18:\n",
    "            return 'kid'\n",
    "        if age < 65:\n",
    "            return 'adult'\n",
    "        if age<100:\n",
    "            return 'senior'\n",
    "    except:\n",
    "        return 'You didnt give me a number for your age.'"
   ]
  },
  {
   "cell_type": "code",
   "execution_count": 72,
   "metadata": {},
   "outputs": [
    {
     "data": {
      "text/plain": [
       "'kid'"
      ]
     },
     "execution_count": 72,
     "metadata": {},
     "output_type": "execute_result"
    }
   ],
   "source": [
    "which_group(10)"
   ]
  },
  {
   "cell_type": "code",
   "execution_count": 75,
   "metadata": {},
   "outputs": [
    {
     "name": "stdout",
     "output_type": "stream",
     "text": [
      "kid\n",
      "adult\n"
     ]
    }
   ],
   "source": [
    "# cool but usually unnecessary operation\n",
    "# conditional structure in a return statement\n",
    "# return <value 1> if <condition> else <value 2>\n",
    "    # <value 1> is returned if the condition is true\n",
    "    # <value 2> is returned if the condition is false\n",
    "    \n",
    "def kid_or_adult(age):\n",
    "    return 'kid' if age < 18 else 'adult'\n",
    "\n",
    "print(kid_or_adult(15))\n",
    "print(kid_or_adult(28))"
   ]
  },
  {
   "cell_type": "code",
   "execution_count": 76,
   "metadata": {},
   "outputs": [
    {
     "name": "stdout",
     "output_type": "stream",
     "text": [
      "Charlie Day\n"
     ]
    },
    {
     "ename": "NameError",
     "evalue": "name 'value' is not defined",
     "output_type": "error",
     "traceback": [
      "\u001b[1;31m---------------------------------------------------------------------------\u001b[0m",
      "\u001b[1;31mNameError\u001b[0m                                 Traceback (most recent call last)",
      "\u001b[1;32m<ipython-input-76-5d2bb327c934>\u001b[0m in \u001b[0;36m<module>\u001b[1;34m\u001b[0m\n\u001b[0;32m      9\u001b[0m \u001b[0mcharlie\u001b[0m \u001b[1;33m=\u001b[0m \u001b[0mscope_test\u001b[0m\u001b[1;33m(\u001b[0m\u001b[1;33m)\u001b[0m\u001b[1;33m\u001b[0m\u001b[1;33m\u001b[0m\u001b[0m\n\u001b[0;32m     10\u001b[0m \u001b[0mprint\u001b[0m\u001b[1;33m(\u001b[0m\u001b[0mcharlie\u001b[0m\u001b[1;33m)\u001b[0m\u001b[1;33m\u001b[0m\u001b[1;33m\u001b[0m\u001b[0m\n\u001b[1;32m---> 11\u001b[1;33m \u001b[0mvalue\u001b[0m\u001b[1;33m\u001b[0m\u001b[1;33m\u001b[0m\u001b[0m\n\u001b[0m",
      "\u001b[1;31mNameError\u001b[0m: name 'value' is not defined"
     ]
    }
   ],
   "source": [
    "# local scope and why returning a variable is important\n",
    "\n",
    "def scope_test():\n",
    "    # the variable value does not exist outside of the function scope_test\n",
    "    value = 'Charlie Day'\n",
    "    # unless we return the variable value, we cannot access 'Charlie Day' from outside the function\n",
    "    return value\n",
    "    \n",
    "charlie = scope_test()\n",
    "print(charlie)\n",
    "value"
   ]
  },
  {
   "cell_type": "markdown",
   "metadata": {},
   "source": [
    "##### *args"
   ]
  },
  {
   "cell_type": "code",
   "execution_count": 50,
   "metadata": {},
   "outputs": [],
   "source": [
    "# talk about after dictionaries\n",
    "# include **kwargs"
   ]
  },
  {
   "cell_type": "markdown",
   "metadata": {},
   "source": [
    "##### Docstring"
   ]
  },
  {
   "cell_type": "code",
   "execution_count": 73,
   "metadata": {},
   "outputs": [
    {
     "name": "stdout",
     "output_type": "stream",
     "text": [
      "0 5 10 15 20 25 30 35 40 45 50 55 60 65 70 75 80 85 90 95 "
     ]
    }
   ],
   "source": [
    "# A docstring is documentation for a function\n",
    "# It is a string accessible thru the ? operator and should describe the inputs/outputs and functionality\n",
    "# created by using \"\"\" \"\"\" at the very start of the function\n",
    "\n",
    "def myRange(stop, start=None, step=1):\n",
    "    \"\"\"\n",
    "    input: required stop or <start>, <stop> or <start>, <stop>, <step>\n",
    "    output: returns None\n",
    "    prints each value between the start and the stop adding the step each time\n",
    "    \"\"\"\n",
    "    if start:\n",
    "        # use multiple variable assignment to flip start and stop values\n",
    "        start, stop = stop, start\n",
    "    else:\n",
    "        start = 0\n",
    "        \n",
    "    while start < stop:\n",
    "        print(start, end=' ')\n",
    "        start = start + step\n",
    "        \n",
    "myRange(100, step=5)"
   ]
  },
  {
   "cell_type": "code",
   "execution_count": 74,
   "metadata": {},
   "outputs": [],
   "source": [
    "# name_of_function?\n",
    "# help(myRange)\n",
    "myRange?"
   ]
  },
  {
   "cell_type": "markdown",
   "metadata": {},
   "source": [
    "##### Using a User Function in a Loop"
   ]
  },
  {
   "cell_type": "code",
   "execution_count": 82,
   "metadata": {},
   "outputs": [],
   "source": [
    "def hello_world(thing):\n",
    "    hello = 'Hello, '\n",
    "    return f'{hello}{thing}!'"
   ]
  },
  {
   "cell_type": "code",
   "execution_count": 84,
   "metadata": {},
   "outputs": [
    {
     "name": "stdout",
     "output_type": "stream",
     "text": [
      "Hello, Alex!\n",
      "Hello, Sven!\n",
      "Hello, Tyler!\n",
      "Hello, Donovan!\n",
      "Hello, Brandon!\n",
      "Hello, Kristen!\n",
      "Hello, Craig!\n",
      "Hello, Jose!\n",
      "Hello, Devante!\n",
      "Hello, Yasir!\n",
      "Hello, Nadia!\n",
      "Hello, Javie!\n",
      "Hello, Sam!\n"
     ]
    }
   ],
   "source": [
    "names = ('Alex', 'Sven', 'Tyler', 'Donovan', 'Brandon', 'Kristen', 'Craig', 'Jose', 'Devante', 'Yasir', 'Nadia', 'Javie', 'Sam')\n",
    "for name in names:\n",
    "    print(hello_world(name)) # passing the name value in as input to the thing parameter\n",
    "        # aka passing name as an argument to hello_world()"
   ]
  },
  {
   "cell_type": "markdown",
   "metadata": {},
   "source": [
    "## Function Exercise <br>\n",
    "<p>Write a function that loops through a list of first_names and a list of last_names, combines the two and return a list of full_names</p>"
   ]
  },
  {
   "cell_type": "code",
   "execution_count": 15,
   "metadata": {},
   "outputs": [
    {
     "data": {
      "text/plain": [
       "['John Smith', 'Evan Smith', 'Jordan Williams', 'Max Bell']"
      ]
     },
     "execution_count": 15,
     "metadata": {},
     "output_type": "execute_result"
    }
   ],
   "source": [
    "first_name = ['John', 'Evan', 'Jordan', 'Max']\n",
    "last_name = ['Smith', 'Smith', 'Williams', 'Bell']\n",
    "\n",
    "# Inputs: list_of_strings, list_of_strings\n",
    "# Output: ['John Smith', 'Evan Smith', 'Jordan Williams', 'Max Bell']\n",
    "\n",
    "# loop - for loop\n",
    "# a new list for our answer - return this\n",
    "# string concatenation (or an f-string)\n",
    "\n",
    "def fullNames(firsts, lasts):\n",
    "    answer = []\n",
    "    for i in range(len(lasts)):\n",
    "        answer.append(f'{firsts[i]} {lasts[i]}')\n",
    "    return answer\n",
    "fullNames(first_name, last_name)"
   ]
  },
  {
   "cell_type": "code",
   "execution_count": 16,
   "metadata": {},
   "outputs": [
    {
     "data": {
      "text/plain": [
       "['John Smith', 'Evan Smith', 'Jordan Williams', 'Max Bell']"
      ]
     },
     "execution_count": 16,
     "metadata": {},
     "output_type": "execute_result"
    }
   ],
   "source": [
    "# list comprehension version\n",
    "\n",
    "def fullNames2(firsts, lasts):\n",
    "    return [f'{firsts[i]} {lasts[i]}' for i in range(len(lasts))]\n",
    "\n",
    "fullNames2(first_name, last_name)"
   ]
  },
  {
   "cell_type": "markdown",
   "metadata": {},
   "source": [
    "## Scope <br>\n",
    "<p>Scope refers to the ability to access variables, different types of scope include:<br>a) Global<br>b) Function (local)<br>c) Class (local)</p>"
   ]
  },
  {
   "cell_type": "code",
   "execution_count": 2,
   "metadata": {},
   "outputs": [
    {
     "name": "stdout",
     "output_type": "stream",
     "text": [
      "Charles LeClerc\n",
      "F1\n",
      "Yuki Tsunoda!\n",
      "Charles LeClerc\n",
      "Thing\n"
     ]
    }
   ],
   "source": [
    "# Global Scope is any function, class, or variable defined outside of any code block\n",
    "    # thus making it accessible from anywhere - including inside of other classes/functions/code blocks\n",
    "\n",
    "# Local scope to a function means that variable name (or function name) is not accessible\n",
    "    # outside of that function where it was originally defined\n",
    "    # we can return a value and thereby access it from outside the function\n",
    "        # but unless we return a value, a variable defined inside of a function\n",
    "        # cannot be accessed outside of that function\n",
    "\n",
    "# Local scope to a class is the same idea -> something defined inside a class \n",
    "    # can't be accessed without going into that class\n",
    "    # more on classes and class scope next week\n",
    "    \n",
    "# A closure is a function defined inside of another function\n",
    "    # therefore that function (the inner function) has local scope to the outer function\n",
    "\n",
    "a_global_thing = 'F1' # globally scoped -> accessible anywhere\n",
    "var_a = 'Thing' # globally scoped -> DIFFERENT VARIABLE ENTIRELY THAN THE OTHER var_a\n",
    "    # generally avoid having a variable name that is used both globally and seperately locally\n",
    "    # if var_a is a variable that you are using outside of a function (aka global)\n",
    "        # don't name a different variable inside the function var_a\n",
    "\n",
    "def locally_scoping_some_variables():\n",
    "    var_a = 'Charles LeClerc' # var_a has local scope to the locally_scoping_some_variables function\n",
    "    var_b = 'Yuki Tsunoda'\n",
    "    print(var_a)\n",
    "    print(a_global_thing)\n",
    "    var_b += '!'\n",
    "    print(var_b)\n",
    "    return var_a\n",
    "\n",
    "returned_val = locally_scoping_some_variables()\n",
    "print(returned_val)\n",
    "print(var_a)"
   ]
  },
  {
   "cell_type": "markdown",
   "metadata": {},
   "source": [
    "# Exercises"
   ]
  },
  {
   "cell_type": "markdown",
   "metadata": {},
   "source": [
    "## Exercise 1 <br>\n",
    "<p>Given a list as a parameter,write a function that returns a list of numbers that are less than ten</b></i></p><br>\n",
    "<p> For example: Say your input parameter to the function is [1,11,14,5,8,9]...Your output should [1,5,8,9]</p>"
   ]
  },
  {
   "cell_type": "code",
   "execution_count": 19,
   "metadata": {},
   "outputs": [
    {
     "data": {
      "text/plain": [
       "[1, 5, 8, 9]"
      ]
     },
     "execution_count": 19,
     "metadata": {},
     "output_type": "execute_result"
    }
   ],
   "source": [
    "# Use the following list - [1,11,14,5,8,9]\n",
    "\n",
    "l_1 = [1,11,14,5,8,9]\n",
    "\n",
    "def lessTen(numbers):\n",
    "    answer = []\n",
    "    for n in numbers:\n",
    "        if n < 10:\n",
    "            answer.append(n)\n",
    "    return answer\n",
    "\n",
    "lessTen(l_1)"
   ]
  },
  {
   "cell_type": "code",
   "execution_count": 20,
   "metadata": {},
   "outputs": [
    {
     "data": {
      "text/plain": [
       "[2, 2, 1, 3, 7, 8, 5]"
      ]
     },
     "execution_count": 20,
     "metadata": {},
     "output_type": "execute_result"
    }
   ],
   "source": [
    "def lessTen2(numbers):\n",
    "    return [n for n in numbers if n < 10]\n",
    "\n",
    "lessTen2([2, 53, 42, 2, 1,3, 432, 53, 7, 8, 5])"
   ]
  },
  {
   "cell_type": "markdown",
   "metadata": {},
   "source": [
    "## Exercise 2 <br>\n",
    "<p>Write a function that takes in two lists and returns the two lists merged together and sorted<br>\n",
    "<b><i>Hint: You can use the .sort() method</i></b></p>"
   ]
  },
  {
   "cell_type": "code",
   "execution_count": 33,
   "metadata": {},
   "outputs": [
    {
     "name": "stdout",
     "output_type": "stream",
     "text": [
      "[1, 2, 3, 3, 4, 4, 5, 5, 6, 6, 7, 8, 10]\n"
     ]
    }
   ],
   "source": [
    "l_1 = [1,2,3,4,5,6]\n",
    "l_2 = [3,4,5,6,7,8,10]\n",
    "\n",
    "# input: 2 lists\n",
    "# output: one list\n",
    "\n",
    "# list concatenation exists just like string concatenation\n",
    "def mergeLists(a, b):\n",
    "    answer = a + b\n",
    "    answer.sort()\n",
    "    return answer\n",
    "\n",
    "print(mergeLists(l_1, l_2))\n"
   ]
  },
  {
   "cell_type": "markdown",
   "metadata": {},
   "source": [
    "# Wednesday Whiteboard"
   ]
  },
  {
   "cell_type": "code",
   "execution_count": 7,
   "metadata": {},
   "outputs": [
    {
     "data": {
      "text/plain": [
       "'palindrome!'"
      ]
     },
     "execution_count": 7,
     "metadata": {},
     "output_type": "execute_result"
    }
   ],
   "source": [
    "# palindrome solver using a for loop and no pointers\n",
    "# same approach:\n",
    "    # loop through half of the list\n",
    "    # comparing the first value to the last value\n",
    "\n",
    "def isPalindrome(s):\n",
    "    # this doesn't account for spaces or capitalization\n",
    "    for i in range(len(s)//2):\n",
    "        # i starts as 0\n",
    "        # I know the last index of the list is -1\n",
    "        # so how do I get -1 if i's value is 0? -i-1\n",
    "        if s[i] != s[-i-1]:\n",
    "            return 'not a palindrome'\n",
    "    return 'palindrome!'\n",
    "\n",
    "isPalindrome('tacocat')"
   ]
  },
  {
   "cell_type": "code",
   "execution_count": null,
   "metadata": {},
   "outputs": [],
   "source": []
  }
 ],
 "metadata": {
  "kernelspec": {
   "display_name": "Python 3",
   "language": "python",
   "name": "python3"
  },
  "language_info": {
   "codemirror_mode": {
    "name": "ipython",
    "version": 3
   },
   "file_extension": ".py",
   "mimetype": "text/x-python",
   "name": "python",
   "nbconvert_exporter": "python",
   "pygments_lexer": "ipython3",
   "version": "3.8.8"
  }
 },
 "nbformat": 4,
 "nbformat_minor": 2
}
