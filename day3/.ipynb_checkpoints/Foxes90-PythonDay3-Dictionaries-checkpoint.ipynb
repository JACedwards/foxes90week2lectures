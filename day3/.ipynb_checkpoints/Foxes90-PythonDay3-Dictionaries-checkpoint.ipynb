{
 "cells": [
  {
   "cell_type": "markdown",
   "metadata": {},
   "source": [
    "# Data Collections 2 (Dictionaries, Sets) and Importing Modules"
   ]
  },
  {
   "cell_type": "markdown",
   "metadata": {},
   "source": [
    "## Tasks Today:\n",
    "\n",
    "1) Dictionary <br>\n",
    " &nbsp;&nbsp;&nbsp;&nbsp; a) Declaring (key, value) <br>\n",
    " &nbsp;&nbsp;&nbsp;&nbsp; b) Accessing Values <br>\n",
    " &nbsp;&nbsp;&nbsp;&nbsp; ------ Exercise #1 - Print the eye color of each person in a double nested dict <br>\n",
    " &nbsp;&nbsp;&nbsp;&nbsp; c) Adding New Pairs <br>\n",
    " &nbsp;&nbsp;&nbsp;&nbsp; d) Modifying Values <br>\n",
    " &nbsp;&nbsp;&nbsp;&nbsp; e) Removing Key, Value Pairs <br>\n",
    " &nbsp;&nbsp;&nbsp;&nbsp; f) Looping a Dictionary <br>\n",
    " &nbsp;&nbsp;&nbsp;&nbsp; g) Looping Only Keys <br>\n",
    " &nbsp;&nbsp;&nbsp;&nbsp; h) Looping Only Values <br>\n",
    " &nbsp;&nbsp;&nbsp;&nbsp; ------ Exercise #2 - Create a Function that Prints All Key Value Pairs within a print .format()  <br>\n",
    " &nbsp;&nbsp;&nbsp;&nbsp; i) sorted() <br>\n",
    " &nbsp;&nbsp;&nbsp;&nbsp; j) Lists with Dictionaries <br>\n",
    " &nbsp;&nbsp;&nbsp;&nbsp; k) Dictionaries with Lists <br>\n",
    " &nbsp;&nbsp;&nbsp;&nbsp; l) Dictionaries with Dictionaries <br>\n",
    " &nbsp;&nbsp;&nbsp;&nbsp; ------ Exercise #3 - Write a Function that asks someone's name and address, and then stores that into a dictionary, which prints all names and addresses after they're done putting information in...  <br>\n",
    "2) Dictionaries vs. Lists (over time)<br>\n",
    "3) Set <br>\n",
    " &nbsp;&nbsp;&nbsp;&nbsp; a) Declaring <br>\n",
    " &nbsp;&nbsp;&nbsp;&nbsp; b) .add() <br>\n",
    " &nbsp;&nbsp;&nbsp;&nbsp; c) .remove() <br>\n",
    " &nbsp;&nbsp;&nbsp;&nbsp; d) .union() <br>\n",
    " &nbsp;&nbsp;&nbsp;&nbsp; e) .intersection() <br>\n",
    " &nbsp;&nbsp;&nbsp;&nbsp; f) .difference() <br>\n",
    " &nbsp;&nbsp;&nbsp;&nbsp; g) Frozen Set <br>\n",
    "4) Modules <br>\n",
    " &nbsp;&nbsp;&nbsp;&nbsp; a) Importing Entire Modules <br>\n",
    " &nbsp;&nbsp;&nbsp;&nbsp; b) Importing Methods Only <br>\n",
    " &nbsp;&nbsp;&nbsp;&nbsp; c) Using the 'as' Keyword <br>\n",
    " &nbsp;&nbsp;&nbsp;&nbsp; d) Creating a Module <br>\n",
    "5) Exercises <br>\n",
    " &nbsp;&nbsp;&nbsp;&nbsp; a) Build a Shopping Cart <br>\n",
    " &nbsp;&nbsp;&nbsp;&nbsp; b) Create Your Own Module <br>"
   ]
  },
  {
   "cell_type": "markdown",
   "metadata": {},
   "source": [
    "## Dictionary <br>\n",
    "<p>A collection of data with 'key:value' pairs. Dictionaries are pesudo-ordered*** as of Python 3.6</p>"
   ]
  },
  {
   "cell_type": "markdown",
   "metadata": {},
   "source": [
    "##### Declaring (key, value)"
   ]
  },
  {
   "cell_type": "code",
   "execution_count": 13,
   "metadata": {},
   "outputs": [],
   "source": [
    "# empty dict:\n",
    "my_dictionary = {}\n",
    "\n",
    "# dictionary - keys can be strings, integers, booleans, floats\n",
    "    # boolean keys are stored as integers 1 and 0\n",
    "    # values can be anything including lists/dictionaries/etc.\n",
    "f1_drivers = {'Charles LeClerc': 'Ferrari', 1: 'Max Verstappen', 'Finland': 'Valtteri Bottas', 2.5: 'Test'}"
   ]
  },
  {
   "cell_type": "markdown",
   "metadata": {},
   "source": [
    "##### Accessing Values"
   ]
  },
  {
   "cell_type": "code",
   "execution_count": 14,
   "metadata": {},
   "outputs": [
    {
     "name": "stdout",
     "output_type": "stream",
     "text": [
      "{'Charles LeClerc': 'Ferrari', 1: 'Max Verstappen', 'Finland': 'Valtteri Bottas', 2.5: 'Test'}\n"
     ]
    },
    {
     "data": {
      "text/plain": [
       "'Valtteri Bottas'"
      ]
     },
     "execution_count": 14,
     "metadata": {},
     "output_type": "execute_result"
    }
   ],
   "source": [
    "# bracket notation\n",
    "# <name_of_dictionary>[<key>]\n",
    "print(f1_drivers)\n",
    "f1_drivers[1]\n",
    "f1_drivers['Finland']"
   ]
  },
  {
   "cell_type": "code",
   "execution_count": 20,
   "metadata": {},
   "outputs": [
    {
     "name": "stdout",
     "output_type": "stream",
     "text": [
      "None\n",
      "no key\n"
     ]
    }
   ],
   "source": [
    "# alternative: dict.get()\n",
    "# <name_of_dict>.get(<key>)\n",
    "# if you provide a key that doesn't exist with bracket notation - you get a key error\n",
    "# f1_drivers['Sam']\n",
    "\n",
    "# with the get method instead of an error you get None\n",
    "print(f1_drivers.get('Sam'))\n",
    "\n",
    "# you can specify the return value if the key doesn't exist\n",
    "print(f1_drivers.get('Sam', 'no key'))"
   ]
  },
  {
   "cell_type": "code",
   "execution_count": 23,
   "metadata": {},
   "outputs": [
    {
     "name": "stdout",
     "output_type": "stream",
     "text": [
      "key is present\n",
      "True\n"
     ]
    }
   ],
   "source": [
    "# common use of .get() - conditional check for a value\n",
    "if f1_drivers.get('Charles LeClerc'):\n",
    "    print('key is present')\n",
    "# could instead use a membership test - either works\n",
    "if 'Charles LeClerc' in f1_drivers:\n",
    "    print('True')"
   ]
  },
  {
   "cell_type": "markdown",
   "metadata": {},
   "source": [
    "## In-Class Exercise #1 - Print a formatted statement from the dictionary below <br>\n",
    "<p>The output should be '2018 Chevrolet Silverado'</p>"
   ]
  },
  {
   "cell_type": "code",
   "execution_count": 27,
   "metadata": {},
   "outputs": [
    {
     "name": "stdout",
     "output_type": "stream",
     "text": [
      "2018 Chevrolet Silverado\n"
     ]
    }
   ],
   "source": [
    "# use the dict below\n",
    "truck = {\n",
    "    'year': 2018,\n",
    "    'make': 'Chevrolet',\n",
    "    'model': 'Silverado'\n",
    "}\n",
    "\n",
    "print(f\"{truck['year']} {truck['make']} {truck['model']}\")\n",
    "\n"
   ]
  },
  {
   "cell_type": "markdown",
   "metadata": {},
   "source": [
    "##### Adding New Pairs"
   ]
  },
  {
   "cell_type": "code",
   "execution_count": 41,
   "metadata": {},
   "outputs": [
    {
     "name": "stdout",
     "output_type": "stream",
     "text": [
      "{'ears': 'large', 'color': 'sand', 'species': 'Fennec', 'habitat': 'desert'}\n"
     ]
    }
   ],
   "source": [
    "# variable assignment at a key\n",
    "fox = {'ears': 'large', 'color': 'sand', 'species': 'Fennec'}\n",
    "fox['habitat'] = 'desert'\n",
    "print(fox)"
   ]
  },
  {
   "cell_type": "markdown",
   "metadata": {},
   "source": [
    "##### Modifying Values"
   ]
  },
  {
   "cell_type": "code",
   "execution_count": 42,
   "metadata": {},
   "outputs": [
    {
     "name": "stdout",
     "output_type": "stream",
     "text": [
      "{'ears': 'large', 'color': 'sand', 'species': 'Fennec', 'habitat': 'desert'}\n",
      "{'ears': 'large', 'color': 'sand', 'species': 'Fennec', 'habitat': 'North African desert'}\n"
     ]
    }
   ],
   "source": [
    "# the exact same syntax as adding a new k:v pair\n",
    "# just that we're doing variable assignment on a key that already exists\n",
    "print(fox)\n",
    "fox['habitat'] = 'North African desert'\n",
    "print(fox)"
   ]
  },
  {
   "cell_type": "markdown",
   "metadata": {},
   "source": [
    "##### Removing Key, Value Pairs"
   ]
  },
  {
   "cell_type": "code",
   "execution_count": 43,
   "metadata": {},
   "outputs": [
    {
     "name": "stdout",
     "output_type": "stream",
     "text": [
      "{'ears': 'large', 'color': 'sand', 'species': 'Fennec', 'habitat': 'North African desert'}\n",
      "{'ears': 'large', 'species': 'Fennec', 'habitat': 'North African desert'}\n"
     ]
    }
   ],
   "source": [
    "# the only way to remove a key value pair is to delete the key entirely\n",
    "# del <name_of_dict>[<key>]\n",
    "# KeyError if you try to delete something that doesn't exist\n",
    "print(fox)\n",
    "del fox['color']\n",
    "print(fox)"
   ]
  },
  {
   "cell_type": "markdown",
   "metadata": {},
   "source": [
    "##### Looping a Dictionary"
   ]
  },
  {
   "cell_type": "code",
   "execution_count": 46,
   "metadata": {},
   "outputs": [
    {
     "name": "stdout",
     "output_type": "stream",
     "text": [
      "{'ears': 'large', 'species': 'Fennec', 'habitat': 'North African desert'}\n",
      "Key: ears - Value: large\n",
      "Key: species - Value: Fennec\n",
      "Key: habitat - Value: North African desert\n"
     ]
    }
   ],
   "source": [
    "# the best approach is a normal for-in loop\n",
    "# that will by default loop through the dictionary's keys\n",
    "# and if we have the keys, we also have access to the values\n",
    "print(fox)\n",
    "for k in fox:\n",
    "    current_key = k\n",
    "    current_value = fox[k]\n",
    "    print(f'Key: {current_key} - Value: {current_value}')"
   ]
  },
  {
   "cell_type": "code",
   "execution_count": 49,
   "metadata": {},
   "outputs": [
    {
     "name": "stdout",
     "output_type": "stream",
     "text": [
      "dict_items([('ears', 'large'), ('species', 'Fennec'), ('habitat', 'North African desert')])\n",
      "ears large\n",
      "species Fennec\n",
      "habitat North African desert\n"
     ]
    }
   ],
   "source": [
    "# .items()\n",
    "# returns a dict_items object that can be easily translated into a list of tuples in the format\n",
    "# [(key, value), (key, value)]\n",
    "print(fox.items())\n",
    "\n",
    "for k,v in fox.items():\n",
    "    print(k, v)"
   ]
  },
  {
   "cell_type": "markdown",
   "metadata": {},
   "source": [
    "##### Looping Only Keys"
   ]
  },
  {
   "cell_type": "code",
   "execution_count": 50,
   "metadata": {},
   "outputs": [
    {
     "data": {
      "text/plain": [
       "dict_keys(['ears', 'species', 'habitat'])"
      ]
     },
     "execution_count": 50,
     "metadata": {},
     "output_type": "execute_result"
    }
   ],
   "source": [
    "# if you are writing a loop through the keys, just use a direct for-in loop\n",
    "# see above\n",
    "\n",
    "# .keys()\n",
    "# if you want a list of your keys\n",
    "fox.keys()\n"
   ]
  },
  {
   "cell_type": "markdown",
   "metadata": {},
   "source": [
    "##### Looping Only Values"
   ]
  },
  {
   "cell_type": "code",
   "execution_count": 52,
   "metadata": {},
   "outputs": [
    {
     "name": "stdout",
     "output_type": "stream",
     "text": [
      "dict_values(['large', 'Fennec', 'North African desert'])\n",
      "large\n",
      "Fennec\n",
      "North African desert\n"
     ]
    }
   ],
   "source": [
    "# .values()\n",
    "print(fox.values())\n",
    "\n",
    "for v in fox.values():\n",
    "    print(v)\n"
   ]
  },
  {
   "cell_type": "markdown",
   "metadata": {},
   "source": [
    "## In-Class Exercise #2 - Create a Function that Prints All Key Value Pairs within a print .format() <br>\n",
    "<p><b>Output should be:</b><br>\n",
    "Max has blue eyes<br>\n",
    "Lilly has brown eyes<br>\n",
    "Barney has blue eyes<br>\n",
    "etc.\n",
    "</p>"
   ]
  },
  {
   "cell_type": "code",
   "execution_count": 53,
   "metadata": {},
   "outputs": [
    {
     "name": "stdout",
     "output_type": "stream",
     "text": [
      "Max has blue eyes.\n",
      "Lilly has brown eyes.\n",
      "Barney has blue eyes.\n",
      "Larney has brown eyes.\n",
      "Ted has purple eyes.\n"
     ]
    }
   ],
   "source": [
    "# use the dict below\n",
    "\n",
    "people = {\n",
    "    'Max': 'blue',\n",
    "    'Lilly': 'brown',\n",
    "    'Barney': 'blue',\n",
    "    'Larney': 'brown',\n",
    "    'Ted': 'purple'\n",
    "}\n",
    "\n",
    "def loopDict(dictionary):\n",
    "    for k in dictionary:\n",
    "        print(f'{k} has {dictionary[k]} eyes.')\n",
    "        \n",
    "loopDict(people)"
   ]
  },
  {
   "cell_type": "markdown",
   "metadata": {},
   "source": [
    "##### sorted()"
   ]
  },
  {
   "cell_type": "code",
   "execution_count": 56,
   "metadata": {},
   "outputs": [
    {
     "name": "stdout",
     "output_type": "stream",
     "text": [
      "['Barney', 'Larney', 'Lilly', 'Max', 'Ted']\n",
      "['blue', 'blue', 'brown', 'brown', 'purple']\n",
      "[('Barney', 'blue'), ('Larney', 'brown'), ('Lilly', 'brown'), ('Max', 'blue'), ('Ted', 'purple')]\n"
     ]
    }
   ],
   "source": [
    "# sorts variables in order\n",
    "# sorted(dict.values()) or dict.keys() or dict.items()\n",
    "\n",
    "print(sorted(people)) # returns a sorted list of keys\n",
    "print(sorted(people.values())) # a sorted list of the values\n",
    "print(sorted(people.items())) # a list of tuples (k, v) sorted by the keys"
   ]
  },
  {
   "cell_type": "code",
   "execution_count": null,
   "metadata": {},
   "outputs": [],
   "source": [
    "# Why doesn't sorted just directly sort inside the dictionary?\n",
    "# It can't!\n",
    "# Dictionaries are not truly ordered. Before python 3.6, they were completely unordered\n",
    "\n",
    "# Dictionaries nowadays are pseudo-ordered by insertion order\n",
    "# aka dictionaries will print, loop, process in the same order every time\n",
    "# but that order is always the order in which the key-value pairs were added\n",
    "\n",
    "# if we really did want to 'sort' a dictionary.... we could\n",
    "# it would just be a process of removing and re-adding keys until they were in the proper order"
   ]
  },
  {
   "cell_type": "markdown",
   "metadata": {},
   "source": [
    "##### List with Dictionaries"
   ]
  },
  {
   "cell_type": "code",
   "execution_count": 68,
   "metadata": {},
   "outputs": [
    {
     "name": "stdout",
     "output_type": "stream",
     "text": [
      "[{'name': 'Dave', 'species': 'Fennec Fox'}, {'name': 'Doug', 'species': ['Tuna', 'Sailfish', 'Mako']}, {'name': 'Dirk', 'species': 'Sun Bear'}]\n",
      "[{'name': 'Dave', 'species': 'Fennec Fox'}, {'name': 'Doug', 'species': ['Tuna', 'Sailfish', 'Mako', 'Mahi Mahi']}, {'name': 'Dirk', 'species': 'Sun Bear'}]\n"
     ]
    }
   ],
   "source": [
    "d1 = {'name': 'Dave', 'species': 'Fennec Fox'}\n",
    "d2 = {'name': 'Doug', 'species': ['Tuna', 'Sailfish', 'Mako']}\n",
    "d3 = {'name': 'Dirk', 'species': 'Sun Bear'}\n",
    "\n",
    "animals = [d1, d2, d3]\n",
    "print(animals)\n",
    "\n",
    "# looping through each key in each dictionary in the animals list\n",
    "for d in animals:\n",
    "    #print(d, type(d))\n",
    "    pass\n",
    "    for k in d:\n",
    "        #print(k, d[k])\n",
    "        pass\n",
    "        \n",
    "# all of the normal rules for the nested data structures still apply\n",
    "# if I want to add a new value to the list at the species key of the d2 dictionary\n",
    "animals[1]['species'].append('Mahi Mahi')\n",
    "print(animals)"
   ]
  },
  {
   "cell_type": "markdown",
   "metadata": {},
   "source": [
    "##### Dictionaries with Lists"
   ]
  },
  {
   "cell_type": "code",
   "execution_count": 70,
   "metadata": {},
   "outputs": [
    {
     "name": "stdout",
     "output_type": "stream",
     "text": [
      "key: Manchester City\tvalue: ['Ederson Moraes', 'Fernandinho', 'Joao Cancelo', 'Phil Foden', 'Erling Haaland'] <class 'list'>\n",
      "key: Swansea City\tvalue: ['Jonjo Shelvey', 'IDK'] <class 'list'>\n",
      "key: Liverpool\tvalue: ['Luis Diaz', 'Sadio Mane', 'Bobby Firmino', 'Jurgen Klopp'] <class 'list'>\n",
      "{'Manchester City': ['Ederson Moraes', 'Fernandinho', 'Joao Cancelo', 'Phil Foden'], 'Swansea City': ['Jonjo Shelvey'], 'Liverpool': ['Luis Diaz', 'Sadio Mane', 'Bobby Firmino']}\n"
     ]
    }
   ],
   "source": [
    "# be careful when using numbers as keys in dictionaries, don't confuse them with indexes\n",
    "players = {\n",
    "    'Manchester City': ['Ederson Moraes', 'Fernandinho', 'Joao Cancelo', 'Phil Foden', 'Erling Haaland'],\n",
    "    'Swansea City': ['Jonjo Shelvey', 'IDK'],\n",
    "    'Liverpool': ['Luis Diaz', 'Sadio Mane', 'Bobby Firmino', 'Jurgen Klopp']\n",
    "}\n",
    "\n",
    "for k in players:\n",
    "    print(f'key: {k}', end='\\t')\n",
    "    print(f'value: {players[k]} {type(players[k])}')\n",
    "    players[k].pop()\n",
    "\n",
    "print(players)"
   ]
  },
  {
   "cell_type": "markdown",
   "metadata": {},
   "source": [
    "##### Dictionaries with Dictionaries"
   ]
  },
  {
   "cell_type": "code",
   "execution_count": 75,
   "metadata": {},
   "outputs": [
    {
     "name": "stdout",
     "output_type": "stream",
     "text": [
      "{'soccer': {'Manchester City': ['Ederson Moraes', 'Fernandinho', 'Joao Cancelo', 'Phil Foden', 'Erling Haaland']}, 'F1': {'Ferrari': ['Charles LeClerc', 'Carlos Sainz'], 'McLaren': ['Daniel Ricciardo', 'Lando Norris']}} <class 'dict'>\n",
      "\n",
      "\n",
      "{'Ferrari': ['Charles LeClerc', 'Carlos Sainz'], 'McLaren': ['Daniel Ricciardo', 'Lando Norris']} <class 'dict'>\n",
      "\n",
      "\n",
      "['Daniel Ricciardo', 'Lando Norris'] <class 'list'>\n",
      "\n",
      "\n",
      "Lando Norris <class 'str'>\n"
     ]
    }
   ],
   "source": [
    "# to get values, must traverse through keys\n",
    "athletes = {\n",
    "    'soccer': {\n",
    "        'Manchester City': ['Ederson Moraes', 'Fernandinho', 'Joao Cancelo', 'Phil Foden', 'Erling Haaland']\n",
    "    },\n",
    "    'F1': {\n",
    "        'Ferrari': ['Charles LeClerc', 'Carlos Sainz'],\n",
    "        'McLaren': ['Daniel Ricciardo', 'Lando Norris']\n",
    "    }\n",
    "}\n",
    "\n",
    "print(athletes, type(athletes))\n",
    "print('\\n')\n",
    "print(athletes['F1'], type(athletes['F1']))\n",
    "print('\\n')\n",
    "print(athletes['F1']['McLaren'], type(athletes['F1']['McLaren']))\n",
    "print('\\n')\n",
    "print(athletes['F1']['McLaren'][1], type(athletes['F1']['McLaren'][1]))\n",
    "# Keep track of which data type you're working with at what point\n",
    "# Take it step by step!"
   ]
  },
  {
   "cell_type": "markdown",
   "metadata": {},
   "source": [
    "## Dictionaries vs. Lists (over time) Example of RUNTIME\n",
    "### When inputting values in a Dictionary vs List"
   ]
  },
  {
   "cell_type": "code",
   "execution_count": 76,
   "metadata": {},
   "outputs": [],
   "source": [
    "import time\n",
    "\n",
    "\n",
    "# generate fake dictionary\n",
    "d = {}\n",
    "\n",
    "for i in range(10000000):\n",
    "    d[i] = 'value'\n",
    "    \n",
    "\n",
    "# generate fake list\n",
    "big_list = [x for x in range(10000000)]"
   ]
  },
  {
   "cell_type": "code",
   "execution_count": 77,
   "metadata": {},
   "outputs": [
    {
     "name": "stdout",
     "output_type": "stream",
     "text": [
      "value\n",
      "Elapsed time for dictionary: 0.0\n",
      "9999999\n",
      "Elapsed time for list: 0.5594801902770996\n"
     ]
    }
   ],
   "source": [
    "# tracking time for dictionary\n",
    "start_time = time.time()\n",
    "\n",
    "print(d[9999999])\n",
    "\n",
    "end_time = time.time() - start_time\n",
    "\n",
    "print('Elapsed time for dictionary: {}'.format(end_time))\n",
    "\n",
    "\n",
    "# tracking time for list\n",
    "start_time = time.time()\n",
    "\n",
    "for i in range(len(big_list)):\n",
    "    if i == 9999999:\n",
    "        print(i)\n",
    "\n",
    "end_time = time.time() - start_time\n",
    "\n",
    "print('Elapsed time for list: {}'.format(end_time))"
   ]
  },
  {
   "cell_type": "markdown",
   "metadata": {},
   "source": [
    "## Exercise #3 - Write a Function that asks someone's name and address, and then stores that into a dictionary, and continues to do so until they choose to 'quit'. Once they quit, the program should print all names and addresses. <br>\n",
    "<p>\n",
    "<b>Proper steps:</b><br>\n",
    "step 1: write a function that takes in information and stores it in a dictionary<br>\n",
    "step 2: define an empty dictionary to work with<br>\n",
    "step 3: create our loop, which asks the user for information until they quit<br>\n",
    "step 4: ask for the information, and store it into variables<br>\n",
    "step 5: check if the user types quit<br>\n",
    "step 5a: print out all information<br>\n",
    "step 5b: break out of the loop<br>\n",
    "step 6: if they didn't quit, add the information to the dictionary<br>\n",
    "step 7: invoke the function by calling it\n",
    "</p>"
   ]
  },
  {
   "cell_type": "code",
   "execution_count": 99,
   "metadata": {},
   "outputs": [
    {
     "name": "stdout",
     "output_type": "stream",
     "text": [
      "What is your address?5320 Newell Road, Palo Alto, CA\n",
      "What is your phone number?111-111-1111\n",
      "What is your name?Dinesh Chugtai\n",
      "{'Dinesh Chugtai': {'address': '5320 Newell Road, Palo Alto, CA', 'number': '111-111-1111'}}\n"
     ]
    }
   ],
   "source": [
    "from IPython.display import clear_output\n",
    "\n",
    "address_book = {}\n",
    "address = input('What is your address?')\n",
    "number = input('What is your phone number?')\n",
    "name = input('What is your name?')\n",
    "address_book[name] = {'address': address, 'number': number}\n",
    "print(address_book)"
   ]
  },
  {
   "cell_type": "code",
   "execution_count": 100,
   "metadata": {},
   "outputs": [
    {
     "data": {
      "text/plain": [
       "'5320 Newell Road, Palo Alto, CA'"
      ]
     },
     "execution_count": 100,
     "metadata": {},
     "output_type": "execute_result"
    }
   ],
   "source": [
    "address_book['Dinesh Chugtai']['address']"
   ]
  },
  {
   "cell_type": "markdown",
   "metadata": {},
   "source": [
    "## Set <br>\n",
    "<p>A Set is an unordered collection data type that is iterable (loop), mutable, and has no duplicate elements.<br>Major advantage is that it is highly optimized in checking if something is in the set, as opposed to checking if something is in a list.</p>"
   ]
  },
  {
   "cell_type": "markdown",
   "metadata": {},
   "source": [
    "##### Declaring"
   ]
  },
  {
   "cell_type": "code",
   "execution_count": null,
   "metadata": {},
   "outputs": [],
   "source": [
    "# set() or {}\n",
    "# no order {3, 2, 1} outputs as {1, 2, 3}\n"
   ]
  },
  {
   "cell_type": "markdown",
   "metadata": {},
   "source": [
    "##### .add()"
   ]
  },
  {
   "cell_type": "code",
   "execution_count": null,
   "metadata": {},
   "outputs": [],
   "source": [
    "# set.add()\n"
   ]
  },
  {
   "cell_type": "markdown",
   "metadata": {},
   "source": [
    "##### .remove()"
   ]
  },
  {
   "cell_type": "code",
   "execution_count": null,
   "metadata": {},
   "outputs": [],
   "source": [
    "# removes by value\n",
    "# set.remove()\n",
    "# nums.remove(56)\n",
    "\n"
   ]
  },
  {
   "cell_type": "markdown",
   "metadata": {},
   "source": [
    "##### .union() "
   ]
  },
  {
   "cell_type": "code",
   "execution_count": null,
   "metadata": {},
   "outputs": [],
   "source": [
    "# Returns a union of two sets, can also use '|' or set.union(set)\n",
    "# joins all numbers, gets rid of duplicates\n"
   ]
  },
  {
   "cell_type": "markdown",
   "metadata": {},
   "source": [
    "##### .intersection()"
   ]
  },
  {
   "cell_type": "code",
   "execution_count": null,
   "metadata": {},
   "outputs": [],
   "source": [
    "# Returns an intersection of two sets, can also use '&'\n",
    "# only takes similar elements from both sets\n",
    "\n"
   ]
  },
  {
   "cell_type": "markdown",
   "metadata": {},
   "source": [
    "##### .difference()"
   ]
  },
  {
   "cell_type": "code",
   "execution_count": null,
   "metadata": {},
   "outputs": [],
   "source": [
    "# Returns a set containing all the elements of invoking set that are not in the second set, can also use '-'\n",
    "# only takes values from the first set that are not in the second set\n",
    "# order matters\n",
    "\n"
   ]
  },
  {
   "cell_type": "markdown",
   "metadata": {},
   "source": [
    "##### .clear()"
   ]
  },
  {
   "cell_type": "code",
   "execution_count": null,
   "metadata": {},
   "outputs": [],
   "source": [
    "# Empties the whole set\n",
    "# set.clear()\n"
   ]
  },
  {
   "cell_type": "markdown",
   "metadata": {},
   "source": [
    "##### Frozenset <br>\n",
    "<p>Frozen sets are immutable objects that only support methods and operators that produce a result without affecting the frozen set or sets to which they are applied.</p><br><b>Unique & Immutable</b>"
   ]
  },
  {
   "cell_type": "code",
   "execution_count": null,
   "metadata": {},
   "outputs": [],
   "source": [
    "# frozenset([])\n"
   ]
  },
  {
   "cell_type": "markdown",
   "metadata": {},
   "source": [
    "## Modules"
   ]
  },
  {
   "cell_type": "markdown",
   "metadata": {},
   "source": [
    "##### Importing Entire Modules"
   ]
  },
  {
   "cell_type": "code",
   "execution_count": null,
   "metadata": {},
   "outputs": [],
   "source": [
    "# import or from 'xxx' import *\n",
    "# import math\n",
    "\n"
   ]
  },
  {
   "cell_type": "markdown",
   "metadata": {},
   "source": [
    "##### Importing Methods Only"
   ]
  },
  {
   "cell_type": "code",
   "execution_count": null,
   "metadata": {},
   "outputs": [],
   "source": [
    "# from 'xxx' import 'xxx'\n",
    "# from math import floor\n",
    "\n",
    "\n"
   ]
  },
  {
   "cell_type": "markdown",
   "metadata": {},
   "source": [
    "##### Using the 'as' Keyword"
   ]
  },
  {
   "cell_type": "code",
   "execution_count": null,
   "metadata": {},
   "outputs": [],
   "source": [
    "# from 'xxx' import 'xxx' as 'xxx' or import 'xxx' as 'xxx'\n",
    "# from math import floor as f\n"
   ]
  },
  {
   "cell_type": "markdown",
   "metadata": {},
   "source": [
    "##### Creating a Module"
   ]
  },
  {
   "cell_type": "code",
   "execution_count": null,
   "metadata": {},
   "outputs": [],
   "source": []
  },
  {
   "cell_type": "markdown",
   "metadata": {},
   "source": [
    "# Exercises"
   ]
  },
  {
   "cell_type": "markdown",
   "metadata": {},
   "source": [
    "### 1) Build a Shopping Cart <br>\n",
    "<p><b>You can use either lists or dictionaries. The program should have the following capabilities:</b><br><br>\n",
    "1) Takes in input <br>\n",
    "2) Stores user input into a dictionary or list <br>\n",
    "3) The User can add or delete items <br>\n",
    "4) The User can see current shopping list <br>\n",
    "5) The program Loops until user 'quits' <br>\n",
    "6) Upon quiting the program, print out all items in the user's list <br>\n",
    "</p>"
   ]
  },
  {
   "cell_type": "code",
   "execution_count": 84,
   "metadata": {},
   "outputs": [],
   "source": [
    "from IPython.display import clear_output\n",
    "\n",
    "# Ask the user four bits of input: Do you want to : Show/Add/Delete or Quit?\n",
    "\n"
   ]
  },
  {
   "cell_type": "markdown",
   "metadata": {},
   "source": [
    "### 2) Create a Module in VS Code and Import It into jupyter notebook <br>\n",
    "<p><b>Module should have the following capabilities:</b><br><br>\n",
    "1) Has a function to calculate the square footage of a house <br>\n",
    "    <b>Reminder of Formula: Length X Width == Area<br>\n",
    "        <hr>\n",
    "2) Has a function to calculate the circumference of a circle <br><br>\n",
    "<b>Program in Jupyter Notebook should take in user input and use imported functions to calculate a circle's circumference or a houses square footage</b>\n",
    "</p>"
   ]
  },
  {
   "cell_type": "code",
   "execution_count": null,
   "metadata": {},
   "outputs": [],
   "source": []
  }
 ],
 "metadata": {
  "kernelspec": {
   "display_name": "Python 3",
   "language": "python",
   "name": "python3"
  },
  "language_info": {
   "codemirror_mode": {
    "name": "ipython",
    "version": 3
   },
   "file_extension": ".py",
   "mimetype": "text/x-python",
   "name": "python",
   "nbconvert_exporter": "python",
   "pygments_lexer": "ipython3",
   "version": "3.8.8"
  }
 },
 "nbformat": 4,
 "nbformat_minor": 2
}
