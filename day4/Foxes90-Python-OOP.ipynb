{
 "cells": [
  {
   "cell_type": "markdown",
   "metadata": {},
   "source": [
    "# Object-Oriented-Programming (OOP)"
   ]
  },
  {
   "cell_type": "markdown",
   "metadata": {},
   "source": [
    "## Tasks Today:\n",
    "\n",
    "   \n",
    "\n",
    "1) <b>Creating a Class (Initializing/Declaring)</b> <br>\n",
    "2) <b>Using a Class (Instantiating)</b> <br>\n",
    " &nbsp;&nbsp;&nbsp;&nbsp; a) Creating One Instance <br>\n",
    " &nbsp;&nbsp;&nbsp;&nbsp; b) Creating Multiple Instances <br>\n",
    " &nbsp;&nbsp;&nbsp;&nbsp; c) In-Class Exercise #1 - Create a Class 'Car' and instantiate three different makes of cars <br>\n",
    "3) <b>The \\__init\\__() Method</b> <br>\n",
    " &nbsp;&nbsp;&nbsp;&nbsp; a) The 'self' Attribute <br>\n",
    "4) <b>Class Attributes</b> <br>\n",
    " &nbsp;&nbsp;&nbsp;&nbsp; a) Initializing Attributes <br>\n",
    " &nbsp;&nbsp;&nbsp;&nbsp; b) Setting an Attribute Outside of the \\__init\\__() Method <br>\n",
    " &nbsp;&nbsp;&nbsp;&nbsp; c) Setting Defaults for Attributes <br>\n",
    " &nbsp;&nbsp;&nbsp;&nbsp; d) Accessing Class Attributes <br>\n",
    " &nbsp;&nbsp;&nbsp;&nbsp; e) Changing Class Attributes <br>\n",
    " &nbsp;&nbsp;&nbsp;&nbsp; f) In-Class Exercise #2 - Add a color and wheels attribute to your 'Car' class <br>\n",
    "5) <b>Class Methods</b> <br>\n",
    " &nbsp;&nbsp;&nbsp;&nbsp; a) Creating <br>\n",
    " &nbsp;&nbsp;&nbsp;&nbsp; b) Calling <br>\n",
    " &nbsp;&nbsp;&nbsp;&nbsp; c) Modifying an Attribute's Value Through a Method <br>\n",
    " &nbsp;&nbsp;&nbsp;&nbsp; d) Incrementing an Attribute's Value Through a Method <br>\n",
    " &nbsp;&nbsp;&nbsp;&nbsp; e) In-Class Exercise #3 - Add a method that prints the cars color and wheel number, then call them <br>\n",
    "6) <b>Inheritance</b> <br>\n",
    " &nbsp;&nbsp;&nbsp;&nbsp; a) Syntax for Inheriting from a Parent Class <br>\n",
    " &nbsp;&nbsp;&nbsp;&nbsp; b) The \\__init\\__() Method for a Child Class (super()) <br>\n",
    " &nbsp;&nbsp;&nbsp;&nbsp; c) Defining Attributes and Methods for the Child Class <br>\n",
    " &nbsp;&nbsp;&nbsp;&nbsp; d) Method Overriding <br>\n",
    " &nbsp;&nbsp;&nbsp;&nbsp; e) In-Class Exercise #4 - Create a class 'Ford' that inherits from 'Car' class and initialize it as a Blue Ford Explorer with 4 wheels using the super() method <br>\n",
    "7) <b>Classes as Attributes</b> <br>\n",
    "8) <b>Exercises</b> <br>\n",
    " &nbsp;&nbsp;&nbsp;&nbsp; a) Exercise #1 - Turn the shopping cart program from yesterday into an object-oriented program <br>"
   ]
  },
  {
   "cell_type": "markdown",
   "metadata": {},
   "source": [
    "## Creating a Class (Initializing/Declaring)\n",
    "<p>When creating a class, function, or even a variable you are initializing that object. Initializing and Declaring occur at the same time in Python, whereas in lower level languages you have to declare an object before initializing it. This is the first step in the process of using a class.</p>"
   ]
  },
  {
   "cell_type": "code",
   "execution_count": 1,
   "metadata": {},
   "outputs": [],
   "source": [
    "class Car():\n",
    "    wheels = 4\n",
    "    color = 'blue'"
   ]
  },
  {
   "cell_type": "markdown",
   "metadata": {},
   "source": [
    "## Using a Class (Instantiating)\n",
    "<p>The process of creating a class is called <i>Instantiating</i>. Each time you create a variable of that type of class, it is referred to as an <i>Instance</i> of that class. This is the second step in the process of using a class.</p>"
   ]
  },
  {
   "cell_type": "markdown",
   "metadata": {},
   "source": [
    "##### Creating One Instance"
   ]
  },
  {
   "cell_type": "code",
   "execution_count": 3,
   "metadata": {},
   "outputs": [
    {
     "name": "stdout",
     "output_type": "stream",
     "text": [
      "<__main__.Car object at 0x0000028E2D4720A0>\n"
     ]
    }
   ],
   "source": [
    "ford = Car()\n",
    "print(ford)"
   ]
  },
  {
   "cell_type": "markdown",
   "metadata": {},
   "source": [
    "##### Creating Multiple Instances"
   ]
  },
  {
   "cell_type": "code",
   "execution_count": 5,
   "metadata": {},
   "outputs": [
    {
     "name": "stdout",
     "output_type": "stream",
     "text": [
      "<__main__.Car object at 0x0000028E2D472CD0>\n",
      "<__main__.Car object at 0x0000028E2D472B20>\n"
     ]
    }
   ],
   "source": [
    "bentley = Car()\n",
    "bmw = Car()\n",
    "print(bentley)\n",
    "print(bmw)"
   ]
  },
  {
   "cell_type": "markdown",
   "metadata": {},
   "source": [
    "##### Accessing the attributes\n"
   ]
  },
  {
   "cell_type": "code",
   "execution_count": 7,
   "metadata": {},
   "outputs": [
    {
     "name": "stdout",
     "output_type": "stream",
     "text": [
      "4\n",
      "4\n"
     ]
    }
   ],
   "source": [
    "# dot notation\n",
    "print(bmw.wheels)\n",
    "print(ford.wheels)"
   ]
  },
  {
   "cell_type": "markdown",
   "metadata": {},
   "source": [
    "##### In-Class Exercise #1 - Create a Class 'Car' and Instantiate three different makes of cars"
   ]
  },
  {
   "cell_type": "code",
   "execution_count": 14,
   "metadata": {},
   "outputs": [
    {
     "name": "stdout",
     "output_type": "stream",
     "text": [
      "<__main__.Dog object at 0x0000028E2D472FD0> <__main__.Dog object at 0x0000028E2D472160> <__main__.Dog object at 0x0000028E2D551850>\n",
      "English Springer Spaniel\n",
      "Samoyed\n",
      "['black', 'white']\n",
      "['white']\n",
      "['white']\n"
     ]
    }
   ],
   "source": [
    "class Dog:\n",
    "    name = 'Wes'\n",
    "    breed = 'English Springer Spaniel'\n",
    "    colors = ['black', 'white']\n",
    "    paws = 4\n",
    "\n",
    "dog1 = Dog()\n",
    "dog2 = Dog()\n",
    "dog3 = Dog()\n",
    "print(dog1, dog2, dog3)\n",
    "\n",
    "# access the breed attribute\n",
    "# <dog_instance>.breed\n",
    "# change an attribute\n",
    "dog2.breed = 'Samoyed'\n",
    "print(dog1.breed)\n",
    "print(dog2.breed)\n",
    "print(dog2.colors)\n",
    "dog2.colors.remove('black') # remove 'black' from dog2's colors\n",
    "print(dog2.colors)\n",
    "print(dog1.colors) # dog1 should still be ['black', 'white'] but the remove from dog2 color also affected dog1 and dog3"
   ]
  },
  {
   "cell_type": "markdown",
   "metadata": {},
   "source": [
    "## The \\__init\\__() Method <br>\n",
    "<p>This method is used in almost every created class, and called only once upon the creation of the class instance. This method will initialize all variables needed for the object.</p>"
   ]
  },
  {
   "cell_type": "code",
   "execution_count": 17,
   "metadata": {},
   "outputs": [
    {
     "name": "stdout",
     "output_type": "stream",
     "text": [
      "English Springer Spaniel ['white', 'black']\n",
      "Samoyed ['white']\n"
     ]
    }
   ],
   "source": [
    "class Dog:\n",
    "    def __init__(self):\n",
    "        self.name = 'Wes'\n",
    "        self.breed = 'English Springer Spaniel'\n",
    "        self.colors = ['white', 'black']\n",
    "        self.paws = 4\n",
    "\n",
    "dog1 = Dog()\n",
    "dog2 = Dog()\n",
    "dog3 = Dog()\n",
    "\n",
    "dog2.breed = 'Samoyed'\n",
    "dog2.colors.remove('black')\n",
    "\n",
    "print(dog1.breed, dog1.colors)\n",
    "print(dog2.breed, dog2.colors)"
   ]
  },
  {
   "cell_type": "markdown",
   "metadata": {},
   "source": [
    "##### The 'self' Attribute <br>\n",
    "<p>This attribute is required to keep track of specific instance's attributes. Without the self attribute, the program would not know how to reference or keep track of an instance's attributes.</p>"
   ]
  },
  {
   "cell_type": "code",
   "execution_count": null,
   "metadata": {},
   "outputs": [],
   "source": [
    "# see above\n",
    "# writing code inside the class? use self\n",
    "# working on an instance of the class outside of the class' code block? use the instance name"
   ]
  },
  {
   "cell_type": "markdown",
   "metadata": {},
   "source": [
    "## Class Attributes <br>\n",
    "<p>While variables are inside of a class, they are referred to as attributes and not variables. When someone says 'attribute' you know they're speaking about a class. Attributes can be initialized through the init method, or outside of it.</p>"
   ]
  },
  {
   "cell_type": "markdown",
   "metadata": {},
   "source": [
    "##### Initializing Attributes"
   ]
  },
  {
   "cell_type": "code",
   "execution_count": null,
   "metadata": {},
   "outputs": [],
   "source": [
    "# see above"
   ]
  },
  {
   "cell_type": "markdown",
   "metadata": {},
   "source": [
    "##### Accessing Class Attributes"
   ]
  },
  {
   "cell_type": "code",
   "execution_count": null,
   "metadata": {
    "scrolled": true
   },
   "outputs": [],
   "source": [
    "# See Above"
   ]
  },
  {
   "cell_type": "markdown",
   "metadata": {},
   "source": [
    "##### Setting Defaults for Attributes"
   ]
  },
  {
   "cell_type": "code",
   "execution_count": 24,
   "metadata": {},
   "outputs": [],
   "source": [
    "class Dog:\n",
    "    def __init__(self, name, breed, paws=4):\n",
    "        self.name = name\n",
    "        self.breed = breed\n",
    "        self.colors = ['white', 'black']\n",
    "        self.paws = paws"
   ]
  },
  {
   "cell_type": "code",
   "execution_count": 32,
   "metadata": {},
   "outputs": [
    {
     "name": "stdout",
     "output_type": "stream",
     "text": [
      "{'name': 'Balto', 'breed': 'Alaskan Husky', 'colors': ['white', 'black'], 'paws': 4}\n",
      "{'name': 'Henry', 'breed': 'English Springer Spaniel', 'colors': ['white', 'black'], 'paws': 4}\n",
      "{'name': 'Hachiko', 'breed': 'Shiba Inu', 'colors': ['white', 'black'], 'paws': 3}\n"
     ]
    }
   ],
   "source": [
    "balto = Dog('Balto', 'Alaskan Husky')\n",
    "# use the .__dict__ attribute to see a dictionary of the object's attributes\n",
    "print(balto.__dict__)\n",
    "\n",
    "henry = Dog('Henry', 'English Springer Spaniel')\n",
    "print(henry.__dict__)\n",
    "\n",
    "hachiko = Dog('Hachiko', 'Shiba Inu', 3)\n",
    "print(hachiko.__dict__)"
   ]
  },
  {
   "cell_type": "markdown",
   "metadata": {},
   "source": [
    "##### Changing Class Attributes <br>\n",
    "<p>Keep in mind there are global class attributes and then there are attributes only available to each class instance which won't effect other classes.</p>"
   ]
  },
  {
   "cell_type": "code",
   "execution_count": 33,
   "metadata": {},
   "outputs": [
    {
     "name": "stdout",
     "output_type": "stream",
     "text": [
      "4\n",
      "['white', 'black']\n",
      "['light brown', 'caramel']\n",
      "['white', 'black']\n"
     ]
    }
   ],
   "source": [
    "# global class attributes are those set up without the self.____ syntax and outside of the __init__ method\n",
    "# attributes only available to each class instance are those set up with the self.____ syntax usually inside __init__()\n",
    "\n",
    "# change Hachiko's paws from 3 to 4\n",
    "hachiko.paws = hachiko.paws+1\n",
    "print(hachiko.paws)\n",
    "\n",
    "# Dog.colors is a list\n",
    "# I can perform any list operation on that list\n",
    "print(hachiko.colors)\n",
    "hachiko.colors.remove('black')\n",
    "hachiko.colors.remove('white')\n",
    "hachiko.colors.append('light brown')\n",
    "hachiko.colors.append('caramel')\n",
    "print(hachiko.colors)\n",
    "print(henry.colors)"
   ]
  },
  {
   "cell_type": "code",
   "execution_count": null,
   "metadata": {},
   "outputs": [],
   "source": []
  },
  {
   "cell_type": "markdown",
   "metadata": {},
   "source": [
    "##### In-Class Exercise #2 - Add a doors and seats attribute to your 'Car' class then print out two different instances with different doors and seats"
   ]
  },
  {
   "cell_type": "code",
   "execution_count": 34,
   "metadata": {},
   "outputs": [
    {
     "name": "stdout",
     "output_type": "stream",
     "text": [
      "{'species': 'Fennex Fox', 'name': 'Djinn', 'latinname': 'Vulpes zerda', 'habitat': 'Desert'}\n",
      "{'species': 'Colugo', 'name': 'Captain', 'latinname': 'i forgot', 'habitat': 'Rainforest'}\n"
     ]
    }
   ],
   "source": [
    "class Animal:\n",
    "    def __init__(self, species, latinname, name, habitat='Desert'):\n",
    "        self.species = species\n",
    "        self.name = name\n",
    "        self.latinname = latinname\n",
    "        self.habitat = habitat\n",
    "        \n",
    "fox = Animal('Fennex Fox', 'Vulpes zerda', 'Djinn')\n",
    "colugo = Animal('Colugo', 'i forgot', 'Captain', 'Rainforest')\n",
    "\n",
    "print(fox.__dict__)\n",
    "print(colugo.__dict__)"
   ]
  },
  {
   "cell_type": "markdown",
   "metadata": {},
   "source": [
    "## Class Methods <br>\n",
    "<p>While inside of a class, functions are referred to as 'methods'. If you hear someone mention methods, they're speaking about classes. Methods are essentially functions, but only callable on the instances of a class.</p>"
   ]
  },
  {
   "cell_type": "markdown",
   "metadata": {},
   "source": [
    "##### Creating"
   ]
  },
  {
   "cell_type": "code",
   "execution_count": 38,
   "metadata": {},
   "outputs": [
    {
     "name": "stdout",
     "output_type": "stream",
     "text": [
      "You pet the Fennex Fox named Djinn.\n",
      "You pet the Colugo named Captain.\n"
     ]
    }
   ],
   "source": [
    "class Animal:\n",
    "    def __init__(self, species, latinname, name, habitat='Desert'):\n",
    "        self.species = species\n",
    "        self.name = name\n",
    "        self.latinname = latinname\n",
    "        self.habitat = habitat\n",
    "        \n",
    "    def pet(self):\n",
    "        print(f'You pet the {self.species} named {self.name}.')\n",
    "\n",
    "fox = Animal('Fennex Fox', 'Vulpes zerda', 'Djinn')\n",
    "colugo = Animal('Colugo', 'i forgot', 'Captain', 'Rainforest')\n",
    "\n",
    "fox.pet() # this is the most common way/best practice way to call a class method\n",
    "\n",
    "# alternative - just to show that the variable name (instance name) is the argument for the self parameter\n",
    "Animal.pet(colugo)"
   ]
  },
  {
   "cell_type": "markdown",
   "metadata": {},
   "source": [
    "##### Calling"
   ]
  },
  {
   "cell_type": "code",
   "execution_count": null,
   "metadata": {},
   "outputs": [],
   "source": [
    "# See Above"
   ]
  },
  {
   "cell_type": "markdown",
   "metadata": {},
   "source": [
    "##### Modifying an Attribute's Value Through a Method"
   ]
  },
  {
   "cell_type": "code",
   "execution_count": 41,
   "metadata": {},
   "outputs": [
    {
     "name": "stdout",
     "output_type": "stream",
     "text": [
      "You pet the Colugo named Captain.\n",
      "i forgot\n",
      "You think the scientific name of this Colugo should change.\n",
      "You change the scientific name from i forgot to Cynocephalus volans.\n",
      "Cynocephalus volans\n"
     ]
    }
   ],
   "source": [
    "class Animal:\n",
    "    def __init__(self, species, latinname, name, habitat='Desert'):\n",
    "        self.species = species\n",
    "        self.name = name\n",
    "        self.latinname = latinname\n",
    "        self.habitat = habitat\n",
    "        \n",
    "    def pet(self):\n",
    "        print(f'You pet the {self.species} named {self.name}.')\n",
    "        \n",
    "    # setter method\n",
    "    def argueAboutNames(self, newname):\n",
    "        print(f'You think the scientific name of this {self.species} should change.')\n",
    "        print(f'You change the scientific name from {self.latinname} to {newname}.')\n",
    "        self.latinname = newname\n",
    "        \n",
    "fox = Animal('Fennex Fox', 'Vulpes zerda', 'Djinn')\n",
    "colugo = Animal('Colugo', 'i forgot', 'Captain', 'Rainforest')\n",
    "\n",
    "colugo.pet()\n",
    "print(colugo.latinname)\n",
    "colugo.argueAboutNames('Cynocephalus volans')\n",
    "print(colugo.latinname)"
   ]
  },
  {
   "cell_type": "markdown",
   "metadata": {},
   "source": [
    "##### Incrementing an Attribute's Value Through a Method"
   ]
  },
  {
   "cell_type": "code",
   "execution_count": 42,
   "metadata": {},
   "outputs": [
    {
     "name": "stdout",
     "output_type": "stream",
     "text": [
      "Happy Birthday, Djinn. This Fennex Fox is now 1 years old.\n",
      "Happy Birthday, Djinn. This Fennex Fox is now 2 years old.\n"
     ]
    }
   ],
   "source": [
    "class Animal:\n",
    "    def __init__(self, species, latinname, name, habitat='Desert'):\n",
    "        self.species = species\n",
    "        self.name = name\n",
    "        self.latinname = latinname\n",
    "        self.habitat = habitat\n",
    "        self.age = 0\n",
    "        \n",
    "    def pet(self):\n",
    "        print(f'You pet the {self.species} named {self.name}.')\n",
    "        \n",
    "    # setter method\n",
    "    def argueAboutNames(self, newname):\n",
    "        print(f'You think the scientific name of this {self.species} should change.')\n",
    "        print(f'You change the scientific name from {self.latinname} to {newname}.')\n",
    "        self.latinname = newname\n",
    "        \n",
    "    def happybirthday(self):\n",
    "        self.age += 1\n",
    "        print(f'Happy Birthday, {self.name}. This {self.species} is now {self.age} years old.')\n",
    "        \n",
    "fox = Animal('Fennex Fox', 'Vulpes zerda', 'Djinn')\n",
    "colugo = Animal('Colugo', 'Cynocephalus volans', 'Captain', 'Rainforest')\n",
    "\n",
    "fox.happybirthday()\n",
    "fox.happybirthday()\n"
   ]
  },
  {
   "cell_type": "markdown",
   "metadata": {},
   "source": [
    "##### In-Class Exercise #3 - Add a method that takes in three parameters of year, doors and seats and prints out a formatted print statement with make, model, year, seats, and doors"
   ]
  },
  {
   "cell_type": "code",
   "execution_count": null,
   "metadata": {},
   "outputs": [],
   "source": [
    "# Create class with 2 or more paramters inside of the __init__ which are make and model\n",
    "\n",
    "# Inside of the Car class create a method\n",
    "\n",
    "# Output: This car is from 2019 and is a Ford Expolorer and has 4 doors and 5 seats\n",
    "\n",
    "# TLDR: make a method that prints a description of this instance of your object"
   ]
  },
  {
   "cell_type": "markdown",
   "metadata": {},
   "source": [
    "## Inheritance <br>\n",
    "<p>You can create a child-parent relationship between two classes by using inheritance. What this allows you to do is have overriding methods, but also inherit traits from the parent class. Think of it as an actual parent and child, the child will inherit the parent's genes, as will the classes in OOP</p>"
   ]
  },
  {
   "cell_type": "markdown",
   "metadata": {},
   "source": [
    "##### Syntax for Inheriting from a Parent Class"
   ]
  },
  {
   "cell_type": "code",
   "execution_count": null,
   "metadata": {},
   "outputs": [],
   "source": []
  },
  {
   "cell_type": "markdown",
   "metadata": {},
   "source": [
    "##### The \\__init\\__() Method for a Child Class - super()"
   ]
  },
  {
   "cell_type": "code",
   "execution_count": null,
   "metadata": {
    "scrolled": true
   },
   "outputs": [],
   "source": []
  },
  {
   "cell_type": "markdown",
   "metadata": {},
   "source": [
    "##### Defining Attributes and Methods for the Child Class"
   ]
  },
  {
   "cell_type": "code",
   "execution_count": null,
   "metadata": {},
   "outputs": [],
   "source": [
    "# See Above"
   ]
  },
  {
   "cell_type": "markdown",
   "metadata": {},
   "source": [
    "##### Method Overriding"
   ]
  },
  {
   "cell_type": "code",
   "execution_count": null,
   "metadata": {},
   "outputs": [],
   "source": [
    "# See Above"
   ]
  },
  {
   "cell_type": "markdown",
   "metadata": {},
   "source": [
    "## Classes as Attributes <br>\n",
    "<p>Classes can also be used as attributes within another class. This is useful in situations where you need to keep variables locally stored, instead of globally stored.</p>"
   ]
  },
  {
   "cell_type": "code",
   "execution_count": null,
   "metadata": {},
   "outputs": [],
   "source": []
  },
  {
   "cell_type": "markdown",
   "metadata": {},
   "source": [
    "# Driver Code"
   ]
  },
  {
   "cell_type": "code",
   "execution_count": 51,
   "metadata": {},
   "outputs": [],
   "source": [
    "class Animal:\n",
    "    def __init__(self, species, latinname, name, habitat='Desert'):\n",
    "        self.species = species\n",
    "        self.name = name\n",
    "        self.latinname = latinname\n",
    "        self.habitat = habitat\n",
    "        self.age = 0\n",
    "        \n",
    "    def pet(self):\n",
    "        print(f'You pet the {self.species} named {self.name}.')\n",
    "        \n",
    "    # setter method\n",
    "    def argueAboutNames(self, newname):\n",
    "        print(f'You think the scientific name of this {self.species} should change.')\n",
    "        print(f'You change the scientific name from {self.latinname} to {newname}.')\n",
    "        self.latinname = newname\n",
    "        \n",
    "    def happybirthday(self):\n",
    "        self.age += 1\n",
    "        print(f'Happy Birthday, {self.name}. This {self.species} is now {self.age} years old.')\n",
    "\n",
    "animals_list = []\n",
    "# our driver code is the code which \"consumes\"/uses the class or classes that we've written\n",
    "def run():\n",
    "    while True:\n",
    "        choice = input('Would you like to create an animal? [1] or leave [2]? ')\n",
    "        if choice == '1':\n",
    "            species = input('What species is this animal? ')\n",
    "            latin = input('What is the latin name of this animal? ')\n",
    "            habitat = input('Where does this animal live? ')\n",
    "            name = input('What is this animal\\'s name? ')\n",
    "            newanimal = Animal(species, latin, name, habitat)\n",
    "            newanimal.pet()\n",
    "            animals_list.append(newanimal)\n",
    "        else:\n",
    "            print('Bye!')\n",
    "            for animal in animals_list:\n",
    "                print(animal.__dict__)\n",
    "            break"
   ]
  },
  {
   "cell_type": "code",
   "execution_count": 52,
   "metadata": {},
   "outputs": [
    {
     "name": "stdout",
     "output_type": "stream",
     "text": [
      "Would you like to create an animal? [1] or leave [2]? 1\n",
      "What species is this animal? Fennec Fox\n",
      "What is the latin name of this animal? Vulpes zerda\n",
      "Where does this animal live? desert\n",
      "What is this animal's name? Djinn\n",
      "You pet the Fennec Fox named Djinn.\n",
      "Would you like to create an animal? [1] or leave [2]? 1\n",
      "What species is this animal? Emperor Penguin\n",
      "What is the latin name of this animal? idk\n",
      "Where does this animal live? antarctica\n",
      "What is this animal's name? dave\n",
      "You pet the Emperor Penguin named dave.\n",
      "Would you like to create an animal? [1] or leave [2]? 2\n",
      "Bye!\n",
      "{'species': 'Fennec Fox', 'name': 'Djinn', 'latinname': 'Vulpes zerda', 'habitat': 'desert', 'age': 0}\n",
      "{'species': 'Emperor Penguin', 'name': 'dave', 'latinname': 'idk', 'habitat': 'antarctica', 'age': 0}\n"
     ]
    }
   ],
   "source": [
    "run()"
   ]
  },
  {
   "cell_type": "markdown",
   "metadata": {},
   "source": [
    "# Exercises"
   ]
  },
  {
   "cell_type": "markdown",
   "metadata": {},
   "source": [
    "### Exercise 1 - Turn the shopping cart program from yesterday into an object-oriented program\n",
    "\n",
    "The comments in the cell below are there as a guide for thinking about the problem. However, if you feel a different way is best for you and your own thought process, please do what feels best for you by all means."
   ]
  },
  {
   "cell_type": "code",
   "execution_count": null,
   "metadata": {},
   "outputs": [],
   "source": [
    "# Create a class called cart that retains items and has methods to add, remove, and show\n",
    "\n",
    "class Cart():\n",
    "    pass\n",
    "    "
   ]
  },
  {
   "cell_type": "markdown",
   "metadata": {},
   "source": [
    "### Exercise 2 - Write a Python class which has two methods get_String and print_String. get_String accept a string from the user and print_String print the string in upper case"
   ]
  },
  {
   "cell_type": "code",
   "execution_count": null,
   "metadata": {},
   "outputs": [],
   "source": []
  }
 ],
 "metadata": {
  "kernelspec": {
   "display_name": "Python 3",
   "language": "python",
   "name": "python3"
  },
  "language_info": {
   "codemirror_mode": {
    "name": "ipython",
    "version": 3
   },
   "file_extension": ".py",
   "mimetype": "text/x-python",
   "name": "python",
   "nbconvert_exporter": "python",
   "pygments_lexer": "ipython3",
   "version": "3.8.8"
  }
 },
 "nbformat": 4,
 "nbformat_minor": 2
}
